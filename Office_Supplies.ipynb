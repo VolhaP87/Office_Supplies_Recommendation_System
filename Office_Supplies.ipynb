{
 "cells": [
  {
   "cell_type": "markdown",
   "metadata": {},
   "source": [
    "![](Images/93f668a3af7fd887623cc2b6addf6c62.jpeg)"
   ]
  },
  {
   "cell_type": "markdown",
   "metadata": {},
   "source": [
    "# Office Supplies Recommendation System\n",
    "Author: Volha Puzikava\n",
    "***"
   ]
  },
  {
   "cell_type": "markdown",
   "metadata": {},
   "source": [
    "## Disclaimer\n",
    "The described analyses fulfill educational purposes only. The hypothetical business case, made-up data and the results of the performed analyses should not be considered as real recommendations of the seller, and have not been approved by any professional organization or trading company.\n",
    "***"
   ]
  },
  {
   "cell_type": "markdown",
   "metadata": {},
   "source": [
    "## Overview\n",
    "With the rise of technology, people shop online more and more often. But with the beginning of new school year, people use online shopping even more frequently. According to the [National Retail Federation’s annual survey](https://nrf.com/media-center/press-releases/back-school-and-college-spending-reach-828-billion), online retailers are the most popular shopping destination for back-to-college shoppers. More than 50% of consumers shop online for back-to-school items every year. Parents spend record amounts of money to get their kids ready for school.\n",
    "\n",
    "Companies are also big customers in the office supply world. A company with 1-4 employees has an average office supply cost of up to $1,844 per employee, per year. A well-stocked, uncluttered and organized office is a successful office. The availability of necessary office supplies in the office can minimize downtime and maximize productivity. However, not all employers know exactly what products to provide in order to smooth the working process and make it more efficient.\n",
    "\n",
    "This project tends to recommend office supplies to the customers based on the reviews that were left by the same customers for the previously bought products. Thus, the project does not only help the retailers in providing high level of personalization and customer tailored services, but also the customers in saving their time and energy. The project also answers the question if it is reasonable for the sellers to offer products in double quntities. \n",
    "***"
   ]
  },
  {
   "cell_type": "markdown",
   "metadata": {},
   "source": [
    "## Business Problem\n",
    "The Stationary and Co. Company asked to develop a recommendation system of their office supply products in order to reach more sales while providing a high level of presonalization to their customers. The project also answers the question, if it is worth for the company to offer customers their products in the pack of two instead of one.\n",
    "***"
   ]
  },
  {
   "cell_type": "markdown",
   "metadata": {},
   "source": [
    "## Data Understanding\n",
    "The data for the analysis was taken from [Amazon review data (2018)](http://deepyeti.ucsd.edu/jianmo/amazon/index.html) page. The dataframes contained reviews and meta data for office supply products sold on Amazon from 2014 to 2018. The data included 5,581,313 reviews and 315,644 products.\n",
    "***"
   ]
  },
  {
   "cell_type": "markdown",
   "metadata": {},
   "source": [
    "## Data Preparation and Exploration\n",
    "The data was uploaded and analyzed. The columns' names were renamed and the dataframes were merged together on product_ID column. Any missing values and duplicates were dropped. Two dataframes were created from the cleaned data. One dataframe contained ratings, product IDs and reviewers IDs, while the other had titles, category type and product IDs. From the first dataset 100,000 random rows were chosen for further analysis. The second dataset was cleaned again by dropping any existing duplicates (duplicates were formed because different users left reviews for the same products). The datasets were saved as csv files."
   ]
  },
  {
   "cell_type": "code",
   "execution_count": 1,
   "metadata": {},
   "outputs": [
    {
     "data": {
      "text/html": [
       "<div>\n",
       "<style scoped>\n",
       "    .dataframe tbody tr th:only-of-type {\n",
       "        vertical-align: middle;\n",
       "    }\n",
       "\n",
       "    .dataframe tbody tr th {\n",
       "        vertical-align: top;\n",
       "    }\n",
       "\n",
       "    .dataframe thead th {\n",
       "        text-align: right;\n",
       "    }\n",
       "</style>\n",
       "<table border=\"1\" class=\"dataframe\">\n",
       "  <thead>\n",
       "    <tr style=\"text-align: right;\">\n",
       "      <th></th>\n",
       "      <th>0</th>\n",
       "      <th>1</th>\n",
       "      <th>2</th>\n",
       "      <th>3</th>\n",
       "    </tr>\n",
       "  </thead>\n",
       "  <tbody>\n",
       "    <tr>\n",
       "      <th>0</th>\n",
       "      <td>A2UESEUCI73CBO</td>\n",
       "      <td>0078800242</td>\n",
       "      <td>5.0</td>\n",
       "      <td>1374192000</td>\n",
       "    </tr>\n",
       "    <tr>\n",
       "      <th>1</th>\n",
       "      <td>A3BBNK2R5TUYGV</td>\n",
       "      <td>0113000316</td>\n",
       "      <td>5.0</td>\n",
       "      <td>1359417600</td>\n",
       "    </tr>\n",
       "    <tr>\n",
       "      <th>2</th>\n",
       "      <td>A5J78T14FJ5DU</td>\n",
       "      <td>0113000316</td>\n",
       "      <td>3.0</td>\n",
       "      <td>1318723200</td>\n",
       "    </tr>\n",
       "    <tr>\n",
       "      <th>3</th>\n",
       "      <td>A2P462UH5L6T57</td>\n",
       "      <td>043928631X</td>\n",
       "      <td>5.0</td>\n",
       "      <td>1356912000</td>\n",
       "    </tr>\n",
       "    <tr>\n",
       "      <th>4</th>\n",
       "      <td>A2E0X1MWNRTQF4</td>\n",
       "      <td>0439340039</td>\n",
       "      <td>1.0</td>\n",
       "      <td>1379721600</td>\n",
       "    </tr>\n",
       "  </tbody>\n",
       "</table>\n",
       "</div>"
      ],
      "text/plain": [
       "                0           1    2           3\n",
       "0  A2UESEUCI73CBO  0078800242  5.0  1374192000\n",
       "1  A3BBNK2R5TUYGV  0113000316  5.0  1359417600\n",
       "2   A5J78T14FJ5DU  0113000316  3.0  1318723200\n",
       "3  A2P462UH5L6T57  043928631X  5.0  1356912000\n",
       "4  A2E0X1MWNRTQF4  0439340039  1.0  1379721600"
      ]
     },
     "execution_count": 1,
     "metadata": {},
     "output_type": "execute_result"
    }
   ],
   "source": [
    "# Import necessary library\n",
    "import pandas as pd\n",
    "\n",
    "# Load the dataset with reviews\n",
    "df1 = pd.read_csv('Data/ratings_Office_Products.csv', header=None)\n",
    "df1.head()"
   ]
  },
  {
   "cell_type": "code",
   "execution_count": 2,
   "metadata": {},
   "outputs": [
    {
     "data": {
      "text/html": [
       "<div>\n",
       "<style scoped>\n",
       "    .dataframe tbody tr th:only-of-type {\n",
       "        vertical-align: middle;\n",
       "    }\n",
       "\n",
       "    .dataframe tbody tr th {\n",
       "        vertical-align: top;\n",
       "    }\n",
       "\n",
       "    .dataframe thead th {\n",
       "        text-align: right;\n",
       "    }\n",
       "</style>\n",
       "<table border=\"1\" class=\"dataframe\">\n",
       "  <thead>\n",
       "    <tr style=\"text-align: right;\">\n",
       "      <th></th>\n",
       "      <th>reviewer_ID</th>\n",
       "      <th>product_ID</th>\n",
       "      <th>rating</th>\n",
       "      <th>time</th>\n",
       "    </tr>\n",
       "  </thead>\n",
       "  <tbody>\n",
       "    <tr>\n",
       "      <th>0</th>\n",
       "      <td>A2UESEUCI73CBO</td>\n",
       "      <td>0078800242</td>\n",
       "      <td>5.0</td>\n",
       "      <td>1374192000</td>\n",
       "    </tr>\n",
       "    <tr>\n",
       "      <th>1</th>\n",
       "      <td>A3BBNK2R5TUYGV</td>\n",
       "      <td>0113000316</td>\n",
       "      <td>5.0</td>\n",
       "      <td>1359417600</td>\n",
       "    </tr>\n",
       "    <tr>\n",
       "      <th>2</th>\n",
       "      <td>A5J78T14FJ5DU</td>\n",
       "      <td>0113000316</td>\n",
       "      <td>3.0</td>\n",
       "      <td>1318723200</td>\n",
       "    </tr>\n",
       "    <tr>\n",
       "      <th>3</th>\n",
       "      <td>A2P462UH5L6T57</td>\n",
       "      <td>043928631X</td>\n",
       "      <td>5.0</td>\n",
       "      <td>1356912000</td>\n",
       "    </tr>\n",
       "    <tr>\n",
       "      <th>4</th>\n",
       "      <td>A2E0X1MWNRTQF4</td>\n",
       "      <td>0439340039</td>\n",
       "      <td>1.0</td>\n",
       "      <td>1379721600</td>\n",
       "    </tr>\n",
       "  </tbody>\n",
       "</table>\n",
       "</div>"
      ],
      "text/plain": [
       "      reviewer_ID  product_ID  rating        time\n",
       "0  A2UESEUCI73CBO  0078800242     5.0  1374192000\n",
       "1  A3BBNK2R5TUYGV  0113000316     5.0  1359417600\n",
       "2   A5J78T14FJ5DU  0113000316     3.0  1318723200\n",
       "3  A2P462UH5L6T57  043928631X     5.0  1356912000\n",
       "4  A2E0X1MWNRTQF4  0439340039     1.0  1379721600"
      ]
     },
     "execution_count": 2,
     "metadata": {},
     "output_type": "execute_result"
    }
   ],
   "source": [
    "# Create titles for each column\n",
    "df1.columns = ['reviewer_ID', 'product_ID', 'rating', 'time']\n",
    "df1.head()"
   ]
  },
  {
   "cell_type": "code",
   "execution_count": 3,
   "metadata": {},
   "outputs": [
    {
     "data": {
      "text/html": [
       "<div>\n",
       "<style scoped>\n",
       "    .dataframe tbody tr th:only-of-type {\n",
       "        vertical-align: middle;\n",
       "    }\n",
       "\n",
       "    .dataframe tbody tr th {\n",
       "        vertical-align: top;\n",
       "    }\n",
       "\n",
       "    .dataframe thead th {\n",
       "        text-align: right;\n",
       "    }\n",
       "</style>\n",
       "<table border=\"1\" class=\"dataframe\">\n",
       "  <thead>\n",
       "    <tr style=\"text-align: right;\">\n",
       "      <th></th>\n",
       "      <th>title</th>\n",
       "      <th>main_cat</th>\n",
       "      <th>asin</th>\n",
       "    </tr>\n",
       "  </thead>\n",
       "  <tbody>\n",
       "    <tr>\n",
       "      <th>0</th>\n",
       "      <td>Sequential Spelling Level 1 Bundle with Studen...</td>\n",
       "      <td>Office Products</td>\n",
       "      <td>0012624861</td>\n",
       "    </tr>\n",
       "    <tr>\n",
       "      <th>1</th>\n",
       "      <td>Mathematics, Applications and Concepts, Course...</td>\n",
       "      <td>Books</td>\n",
       "      <td>0078652669</td>\n",
       "    </tr>\n",
       "    <tr>\n",
       "      <th>2</th>\n",
       "      <td>Pearson MyHistoryLab Online Access Code for Am...</td>\n",
       "      <td>Office Products</td>\n",
       "      <td>0136039847</td>\n",
       "    </tr>\n",
       "    <tr>\n",
       "      <th>3</th>\n",
       "      <td>A Pocket for Corduroy</td>\n",
       "      <td>Office Products</td>\n",
       "      <td>0140503528</td>\n",
       "    </tr>\n",
       "    <tr>\n",
       "      <th>4</th>\n",
       "      <td>Social Entrepreneurship: What Everyone Needs t...</td>\n",
       "      <td>Books</td>\n",
       "      <td>0195396332</td>\n",
       "    </tr>\n",
       "  </tbody>\n",
       "</table>\n",
       "</div>"
      ],
      "text/plain": [
       "                                               title         main_cat  \\\n",
       "0  Sequential Spelling Level 1 Bundle with Studen...  Office Products   \n",
       "1  Mathematics, Applications and Concepts, Course...            Books   \n",
       "2  Pearson MyHistoryLab Online Access Code for Am...  Office Products   \n",
       "3                              A Pocket for Corduroy  Office Products   \n",
       "4  Social Entrepreneurship: What Everyone Needs t...            Books   \n",
       "\n",
       "         asin  \n",
       "0  0012624861  \n",
       "1  0078652669  \n",
       "2  0136039847  \n",
       "3  0140503528  \n",
       "4  0195396332  "
      ]
     },
     "execution_count": 3,
     "metadata": {},
     "output_type": "execute_result"
    }
   ],
   "source": [
    "# Load the dataset with meta data\n",
    "df_meta = pd.read_csv('Data/Office_Products.csv')\n",
    "df_meta.head()"
   ]
  },
  {
   "cell_type": "code",
   "execution_count": 4,
   "metadata": {},
   "outputs": [
    {
     "data": {
      "text/html": [
       "<div>\n",
       "<style scoped>\n",
       "    .dataframe tbody tr th:only-of-type {\n",
       "        vertical-align: middle;\n",
       "    }\n",
       "\n",
       "    .dataframe tbody tr th {\n",
       "        vertical-align: top;\n",
       "    }\n",
       "\n",
       "    .dataframe thead th {\n",
       "        text-align: right;\n",
       "    }\n",
       "</style>\n",
       "<table border=\"1\" class=\"dataframe\">\n",
       "  <thead>\n",
       "    <tr style=\"text-align: right;\">\n",
       "      <th></th>\n",
       "      <th>title</th>\n",
       "      <th>main_cat</th>\n",
       "      <th>product_ID</th>\n",
       "    </tr>\n",
       "  </thead>\n",
       "  <tbody>\n",
       "    <tr>\n",
       "      <th>0</th>\n",
       "      <td>Sequential Spelling Level 1 Bundle with Studen...</td>\n",
       "      <td>Office Products</td>\n",
       "      <td>0012624861</td>\n",
       "    </tr>\n",
       "    <tr>\n",
       "      <th>1</th>\n",
       "      <td>Mathematics, Applications and Concepts, Course...</td>\n",
       "      <td>Books</td>\n",
       "      <td>0078652669</td>\n",
       "    </tr>\n",
       "    <tr>\n",
       "      <th>2</th>\n",
       "      <td>Pearson MyHistoryLab Online Access Code for Am...</td>\n",
       "      <td>Office Products</td>\n",
       "      <td>0136039847</td>\n",
       "    </tr>\n",
       "    <tr>\n",
       "      <th>3</th>\n",
       "      <td>A Pocket for Corduroy</td>\n",
       "      <td>Office Products</td>\n",
       "      <td>0140503528</td>\n",
       "    </tr>\n",
       "    <tr>\n",
       "      <th>4</th>\n",
       "      <td>Social Entrepreneurship: What Everyone Needs t...</td>\n",
       "      <td>Books</td>\n",
       "      <td>0195396332</td>\n",
       "    </tr>\n",
       "  </tbody>\n",
       "</table>\n",
       "</div>"
      ],
      "text/plain": [
       "                                               title         main_cat  \\\n",
       "0  Sequential Spelling Level 1 Bundle with Studen...  Office Products   \n",
       "1  Mathematics, Applications and Concepts, Course...            Books   \n",
       "2  Pearson MyHistoryLab Online Access Code for Am...  Office Products   \n",
       "3                              A Pocket for Corduroy  Office Products   \n",
       "4  Social Entrepreneurship: What Everyone Needs t...            Books   \n",
       "\n",
       "   product_ID  \n",
       "0  0012624861  \n",
       "1  0078652669  \n",
       "2  0136039847  \n",
       "3  0140503528  \n",
       "4  0195396332  "
      ]
     },
     "execution_count": 4,
     "metadata": {},
     "output_type": "execute_result"
    }
   ],
   "source": [
    "# Rename column name\n",
    "meta_df = df_meta.rename(columns={\"asin\" : \"product_ID\"})\n",
    "meta_df.head()"
   ]
  },
  {
   "cell_type": "code",
   "execution_count": 5,
   "metadata": {},
   "outputs": [
    {
     "data": {
      "text/html": [
       "<div>\n",
       "<style scoped>\n",
       "    .dataframe tbody tr th:only-of-type {\n",
       "        vertical-align: middle;\n",
       "    }\n",
       "\n",
       "    .dataframe tbody tr th {\n",
       "        vertical-align: top;\n",
       "    }\n",
       "\n",
       "    .dataframe thead th {\n",
       "        text-align: right;\n",
       "    }\n",
       "</style>\n",
       "<table border=\"1\" class=\"dataframe\">\n",
       "  <thead>\n",
       "    <tr style=\"text-align: right;\">\n",
       "      <th></th>\n",
       "      <th>reviewer_ID</th>\n",
       "      <th>product_ID</th>\n",
       "      <th>rating</th>\n",
       "      <th>time</th>\n",
       "      <th>title</th>\n",
       "      <th>main_cat</th>\n",
       "    </tr>\n",
       "  </thead>\n",
       "  <tbody>\n",
       "    <tr>\n",
       "      <th>0</th>\n",
       "      <td>A2P462UH5L6T57</td>\n",
       "      <td>043928631X</td>\n",
       "      <td>5.0</td>\n",
       "      <td>1356912000</td>\n",
       "      <td>Harry Potter Lenticular Hologram Bookmark - Ha...</td>\n",
       "      <td>Office Products</td>\n",
       "    </tr>\n",
       "    <tr>\n",
       "      <th>1</th>\n",
       "      <td>A2E0X1MWNRTQF4</td>\n",
       "      <td>0439340039</td>\n",
       "      <td>1.0</td>\n",
       "      <td>1379721600</td>\n",
       "      <td>Learn About Physical Science : Simple Machines</td>\n",
       "      <td>Software</td>\n",
       "    </tr>\n",
       "    <tr>\n",
       "      <th>2</th>\n",
       "      <td>AAYGDWCI3LDQP</td>\n",
       "      <td>0439394058</td>\n",
       "      <td>5.0</td>\n",
       "      <td>1405382400</td>\n",
       "      <td>Scholastic SC939405 All-In-One Schoolhouse Cal...</td>\n",
       "      <td>Office Products</td>\n",
       "    </tr>\n",
       "    <tr>\n",
       "      <th>3</th>\n",
       "      <td>AI7SARYVM8FGA</td>\n",
       "      <td>0439394058</td>\n",
       "      <td>4.0</td>\n",
       "      <td>1212624000</td>\n",
       "      <td>Scholastic SC939405 All-In-One Schoolhouse Cal...</td>\n",
       "      <td>Office Products</td>\n",
       "    </tr>\n",
       "    <tr>\n",
       "      <th>4</th>\n",
       "      <td>A1BUVOGGFTGMBN</td>\n",
       "      <td>0439394058</td>\n",
       "      <td>2.0</td>\n",
       "      <td>1389744000</td>\n",
       "      <td>Scholastic SC939405 All-In-One Schoolhouse Cal...</td>\n",
       "      <td>Office Products</td>\n",
       "    </tr>\n",
       "  </tbody>\n",
       "</table>\n",
       "</div>"
      ],
      "text/plain": [
       "      reviewer_ID  product_ID  rating        time  \\\n",
       "0  A2P462UH5L6T57  043928631X     5.0  1356912000   \n",
       "1  A2E0X1MWNRTQF4  0439340039     1.0  1379721600   \n",
       "2   AAYGDWCI3LDQP  0439394058     5.0  1405382400   \n",
       "3   AI7SARYVM8FGA  0439394058     4.0  1212624000   \n",
       "4  A1BUVOGGFTGMBN  0439394058     2.0  1389744000   \n",
       "\n",
       "                                               title         main_cat  \n",
       "0  Harry Potter Lenticular Hologram Bookmark - Ha...  Office Products  \n",
       "1     Learn About Physical Science : Simple Machines         Software  \n",
       "2  Scholastic SC939405 All-In-One Schoolhouse Cal...  Office Products  \n",
       "3  Scholastic SC939405 All-In-One Schoolhouse Cal...  Office Products  \n",
       "4  Scholastic SC939405 All-In-One Schoolhouse Cal...  Office Products  "
      ]
     },
     "execution_count": 5,
     "metadata": {},
     "output_type": "execute_result"
    }
   ],
   "source": [
    "# Merge two datasets on product_ID column\n",
    "df = df1.merge(meta_df, on = ['product_ID'])\n",
    "df.head()"
   ]
  },
  {
   "cell_type": "code",
   "execution_count": 6,
   "metadata": {},
   "outputs": [
    {
     "name": "stdout",
     "output_type": "stream",
     "text": [
      "<class 'pandas.core.frame.DataFrame'>\n",
      "Int64Index: 825526 entries, 0 to 825525\n",
      "Data columns (total 6 columns):\n",
      " #   Column       Non-Null Count   Dtype  \n",
      "---  ------       --------------   -----  \n",
      " 0   reviewer_ID  825526 non-null  object \n",
      " 1   product_ID   825526 non-null  object \n",
      " 2   rating       825526 non-null  float64\n",
      " 3   time         825526 non-null  int64  \n",
      " 4   title        825525 non-null  object \n",
      " 5   main_cat     824583 non-null  object \n",
      "dtypes: float64(1), int64(1), object(4)\n",
      "memory usage: 44.1+ MB\n"
     ]
    }
   ],
   "source": [
    "# Check the data type of each column\n",
    "df.info()"
   ]
  },
  {
   "cell_type": "code",
   "execution_count": 7,
   "metadata": {},
   "outputs": [
    {
     "data": {
      "text/plain": [
       "reviewer_ID      0\n",
       "product_ID       0\n",
       "rating           0\n",
       "time             0\n",
       "title            1\n",
       "main_cat       943\n",
       "dtype: int64"
      ]
     },
     "execution_count": 7,
     "metadata": {},
     "output_type": "execute_result"
    }
   ],
   "source": [
    "# Check for any missing values\n",
    "df.isnull().sum()"
   ]
  },
  {
   "cell_type": "code",
   "execution_count": 8,
   "metadata": {},
   "outputs": [
    {
     "name": "stdout",
     "output_type": "stream",
     "text": [
      "<class 'pandas.core.frame.DataFrame'>\n",
      "Int64Index: 824582 entries, 0 to 825525\n",
      "Data columns (total 6 columns):\n",
      " #   Column       Non-Null Count   Dtype  \n",
      "---  ------       --------------   -----  \n",
      " 0   reviewer_ID  824582 non-null  object \n",
      " 1   product_ID   824582 non-null  object \n",
      " 2   rating       824582 non-null  float64\n",
      " 3   time         824582 non-null  int64  \n",
      " 4   title        824582 non-null  object \n",
      " 5   main_cat     824582 non-null  object \n",
      "dtypes: float64(1), int64(1), object(4)\n",
      "memory usage: 44.0+ MB\n"
     ]
    }
   ],
   "source": [
    "# Drop missing values\n",
    "df.dropna(inplace=True)\n",
    "df.info()"
   ]
  },
  {
   "cell_type": "code",
   "execution_count": 9,
   "metadata": {},
   "outputs": [
    {
     "data": {
      "text/plain": [
       "False    725194\n",
       "True      99388\n",
       "dtype: int64"
      ]
     },
     "execution_count": 9,
     "metadata": {},
     "output_type": "execute_result"
    }
   ],
   "source": [
    "# Check for any duplicates \n",
    "df.duplicated().value_counts()"
   ]
  },
  {
   "cell_type": "code",
   "execution_count": 10,
   "metadata": {},
   "outputs": [
    {
     "data": {
      "text/plain": [
       "False    725194\n",
       "dtype: int64"
      ]
     },
     "execution_count": 10,
     "metadata": {},
     "output_type": "execute_result"
    }
   ],
   "source": [
    "# Drop duplicates\n",
    "df2 = df.drop_duplicates()\n",
    "df2.duplicated().value_counts()"
   ]
  },
  {
   "cell_type": "code",
   "execution_count": 11,
   "metadata": {},
   "outputs": [
    {
     "data": {
      "text/html": [
       "<div>\n",
       "<style scoped>\n",
       "    .dataframe tbody tr th:only-of-type {\n",
       "        vertical-align: middle;\n",
       "    }\n",
       "\n",
       "    .dataframe tbody tr th {\n",
       "        vertical-align: top;\n",
       "    }\n",
       "\n",
       "    .dataframe thead th {\n",
       "        text-align: right;\n",
       "    }\n",
       "</style>\n",
       "<table border=\"1\" class=\"dataframe\">\n",
       "  <thead>\n",
       "    <tr style=\"text-align: right;\">\n",
       "      <th></th>\n",
       "      <th>reviewer_ID</th>\n",
       "      <th>product_ID</th>\n",
       "      <th>rating</th>\n",
       "    </tr>\n",
       "  </thead>\n",
       "  <tbody>\n",
       "    <tr>\n",
       "      <th>0</th>\n",
       "      <td>A2P462UH5L6T57</td>\n",
       "      <td>043928631X</td>\n",
       "      <td>5.0</td>\n",
       "    </tr>\n",
       "    <tr>\n",
       "      <th>1</th>\n",
       "      <td>A2E0X1MWNRTQF4</td>\n",
       "      <td>0439340039</td>\n",
       "      <td>1.0</td>\n",
       "    </tr>\n",
       "    <tr>\n",
       "      <th>2</th>\n",
       "      <td>AAYGDWCI3LDQP</td>\n",
       "      <td>0439394058</td>\n",
       "      <td>5.0</td>\n",
       "    </tr>\n",
       "    <tr>\n",
       "      <th>3</th>\n",
       "      <td>AI7SARYVM8FGA</td>\n",
       "      <td>0439394058</td>\n",
       "      <td>4.0</td>\n",
       "    </tr>\n",
       "    <tr>\n",
       "      <th>4</th>\n",
       "      <td>A1BUVOGGFTGMBN</td>\n",
       "      <td>0439394058</td>\n",
       "      <td>2.0</td>\n",
       "    </tr>\n",
       "  </tbody>\n",
       "</table>\n",
       "</div>"
      ],
      "text/plain": [
       "      reviewer_ID  product_ID  rating\n",
       "0  A2P462UH5L6T57  043928631X     5.0\n",
       "1  A2E0X1MWNRTQF4  0439340039     1.0\n",
       "2   AAYGDWCI3LDQP  0439394058     5.0\n",
       "3   AI7SARYVM8FGA  0439394058     4.0\n",
       "4  A1BUVOGGFTGMBN  0439394058     2.0"
      ]
     },
     "execution_count": 11,
     "metadata": {},
     "output_type": "execute_result"
    }
   ],
   "source": [
    "# Retrieve the dataset with reviews from the merged data\n",
    "df_ratings = df2[['reviewer_ID', 'product_ID', 'rating']]\n",
    "df_ratings.head()"
   ]
  },
  {
   "cell_type": "code",
   "execution_count": 12,
   "metadata": {},
   "outputs": [
    {
     "name": "stdout",
     "output_type": "stream",
     "text": [
      "<class 'pandas.core.frame.DataFrame'>\n",
      "Int64Index: 725194 entries, 0 to 825525\n",
      "Data columns (total 3 columns):\n",
      " #   Column       Non-Null Count   Dtype  \n",
      "---  ------       --------------   -----  \n",
      " 0   reviewer_ID  725194 non-null  object \n",
      " 1   product_ID   725194 non-null  object \n",
      " 2   rating       725194 non-null  float64\n",
      "dtypes: float64(1), object(2)\n",
      "memory usage: 22.1+ MB\n"
     ]
    }
   ],
   "source": [
    "# Check the data type of each column\n",
    "df_ratings.info()"
   ]
  },
  {
   "cell_type": "code",
   "execution_count": 13,
   "metadata": {},
   "outputs": [
    {
     "name": "stdout",
     "output_type": "stream",
     "text": [
      "<class 'pandas.core.frame.DataFrame'>\n",
      "Int64Index: 100000 entries, 482064 to 201886\n",
      "Data columns (total 3 columns):\n",
      " #   Column       Non-Null Count   Dtype  \n",
      "---  ------       --------------   -----  \n",
      " 0   reviewer_ID  100000 non-null  object \n",
      " 1   product_ID   100000 non-null  object \n",
      " 2   rating       100000 non-null  float64\n",
      "dtypes: float64(1), object(2)\n",
      "memory usage: 3.1+ MB\n"
     ]
    }
   ],
   "source": [
    "# Choose 100,000 random rows\n",
    "df_final = df_ratings.sample(n=100000)\n",
    "df_final.info()"
   ]
  },
  {
   "cell_type": "code",
   "execution_count": 14,
   "metadata": {},
   "outputs": [],
   "source": [
    "# Save the prepared dataset as csv file\n",
    "df_final.to_csv('Data/Final_Ratings.csv', index=False)"
   ]
  },
  {
   "cell_type": "code",
   "execution_count": 15,
   "metadata": {},
   "outputs": [
    {
     "data": {
      "text/html": [
       "<div>\n",
       "<style scoped>\n",
       "    .dataframe tbody tr th:only-of-type {\n",
       "        vertical-align: middle;\n",
       "    }\n",
       "\n",
       "    .dataframe tbody tr th {\n",
       "        vertical-align: top;\n",
       "    }\n",
       "\n",
       "    .dataframe thead th {\n",
       "        text-align: right;\n",
       "    }\n",
       "</style>\n",
       "<table border=\"1\" class=\"dataframe\">\n",
       "  <thead>\n",
       "    <tr style=\"text-align: right;\">\n",
       "      <th></th>\n",
       "      <th>product_ID</th>\n",
       "      <th>title</th>\n",
       "      <th>main_cat</th>\n",
       "    </tr>\n",
       "  </thead>\n",
       "  <tbody>\n",
       "    <tr>\n",
       "      <th>0</th>\n",
       "      <td>043928631X</td>\n",
       "      <td>Harry Potter Lenticular Hologram Bookmark - Ha...</td>\n",
       "      <td>Office Products</td>\n",
       "    </tr>\n",
       "    <tr>\n",
       "      <th>1</th>\n",
       "      <td>0439340039</td>\n",
       "      <td>Learn About Physical Science : Simple Machines</td>\n",
       "      <td>Software</td>\n",
       "    </tr>\n",
       "    <tr>\n",
       "      <th>2</th>\n",
       "      <td>0439394058</td>\n",
       "      <td>Scholastic SC939405 All-In-One Schoolhouse Cal...</td>\n",
       "      <td>Office Products</td>\n",
       "    </tr>\n",
       "    <tr>\n",
       "      <th>3</th>\n",
       "      <td>0439394058</td>\n",
       "      <td>Scholastic SC939405 All-In-One Schoolhouse Cal...</td>\n",
       "      <td>Office Products</td>\n",
       "    </tr>\n",
       "    <tr>\n",
       "      <th>4</th>\n",
       "      <td>0439394058</td>\n",
       "      <td>Scholastic SC939405 All-In-One Schoolhouse Cal...</td>\n",
       "      <td>Office Products</td>\n",
       "    </tr>\n",
       "  </tbody>\n",
       "</table>\n",
       "</div>"
      ],
      "text/plain": [
       "   product_ID                                              title  \\\n",
       "0  043928631X  Harry Potter Lenticular Hologram Bookmark - Ha...   \n",
       "1  0439340039     Learn About Physical Science : Simple Machines   \n",
       "2  0439394058  Scholastic SC939405 All-In-One Schoolhouse Cal...   \n",
       "3  0439394058  Scholastic SC939405 All-In-One Schoolhouse Cal...   \n",
       "4  0439394058  Scholastic SC939405 All-In-One Schoolhouse Cal...   \n",
       "\n",
       "          main_cat  \n",
       "0  Office Products  \n",
       "1         Software  \n",
       "2  Office Products  \n",
       "3  Office Products  \n",
       "4  Office Products  "
      ]
     },
     "execution_count": 15,
     "metadata": {},
     "output_type": "execute_result"
    }
   ],
   "source": [
    "# Retrieve the dataset with meta data\n",
    "df_metadata = df2[['product_ID', 'title', 'main_cat']]\n",
    "df_metadata.head()"
   ]
  },
  {
   "cell_type": "code",
   "execution_count": 16,
   "metadata": {},
   "outputs": [
    {
     "data": {
      "text/plain": [
       "True     652324\n",
       "False     72870\n",
       "dtype: int64"
      ]
     },
     "execution_count": 16,
     "metadata": {},
     "output_type": "execute_result"
    }
   ],
   "source": [
    "# Check for any duplicates\n",
    "df_metadata.duplicated().value_counts()"
   ]
  },
  {
   "cell_type": "code",
   "execution_count": 17,
   "metadata": {},
   "outputs": [
    {
     "data": {
      "text/plain": [
       "False    72870\n",
       "dtype: int64"
      ]
     },
     "execution_count": 17,
     "metadata": {},
     "output_type": "execute_result"
    }
   ],
   "source": [
    "# Drop duplicates\n",
    "metadata = df_metadata.drop_duplicates()\n",
    "metadata.duplicated().value_counts()"
   ]
  },
  {
   "cell_type": "code",
   "execution_count": 18,
   "metadata": {},
   "outputs": [
    {
     "name": "stdout",
     "output_type": "stream",
     "text": [
      "<class 'pandas.core.frame.DataFrame'>\n",
      "Int64Index: 72870 entries, 0 to 825525\n",
      "Data columns (total 3 columns):\n",
      " #   Column      Non-Null Count  Dtype \n",
      "---  ------      --------------  ----- \n",
      " 0   product_ID  72870 non-null  object\n",
      " 1   title       72870 non-null  object\n",
      " 2   main_cat    72870 non-null  object\n",
      "dtypes: object(3)\n",
      "memory usage: 2.2+ MB\n"
     ]
    }
   ],
   "source": [
    "# Check the data type of each column\n",
    "metadata.info()"
   ]
  },
  {
   "cell_type": "code",
   "execution_count": 19,
   "metadata": {},
   "outputs": [],
   "source": [
    "# Save the dataset as csv file\n",
    "metadata.to_csv('Data/Final_Metadata.csv', index=False)"
   ]
  },
  {
   "cell_type": "markdown",
   "metadata": {},
   "source": [
    "The distribution of ratings in the rating dataset was plotted. As seen from the graph, people mostly left 5 stars to the products presented on the web site, and 4 and 1 star reviews are almost equally distributed. "
   ]
  },
  {
   "cell_type": "code",
   "execution_count": 20,
   "metadata": {},
   "outputs": [
    {
     "data": {
      "image/png": "[encoded data removed]",
      "text/plain": [
       "<Figure size 720x360 with 1 Axes>"
      ]
     },
     "metadata": {},
     "output_type": "display_data"
    }
   ],
   "source": [
    "# Import necessary libraries\n",
    "import seaborn as sns\n",
    "import warnings\n",
    "warnings.filterwarnings('ignore')\n",
    "\n",
    "# Check the distribution of ratings \n",
    "with sns.axes_style('white'):\n",
    "    g = sns.factorplot(\"rating\", data=df_final, aspect=2.0, kind='count')\n",
    "    g.set_ylabels(\"Total number of ratings\")\n",
    "\n",
    "g.savefig('distribution_rating');"
   ]
  },
  {
   "cell_type": "markdown",
   "metadata": {},
   "source": [
    "***"
   ]
  },
  {
   "cell_type": "markdown",
   "metadata": {},
   "source": [
    "## Data Modeling\n",
    "The recommendation system was initially built using surprise library. Different types of collaborative filtering engines, ranging from neighborhood-based methods to matrix factorization, were tried out. Later, the recommendation system was built using ALS in Spark programming environment. The different models were compared to see which one performed better. For consistency sake, RMSE was used to evaluate the models."
   ]
  },
  {
   "cell_type": "markdown",
   "metadata": {},
   "source": [
    "### Modeling with Surprise Library"
   ]
  },
  {
   "cell_type": "code",
   "execution_count": 21,
   "metadata": {},
   "outputs": [],
   "source": [
    "# Import necessary library\n",
    "from surprise import Reader, Dataset\n",
    "\n",
    "# Read in values as Surprise dataset\n",
    "reader = Reader()\n",
    "data = Dataset.load_from_df(df_final, reader)"
   ]
  },
  {
   "cell_type": "markdown",
   "metadata": {},
   "source": [
    "The number of users and items were checked in the dataset. It helped to determine whether user-user or item-item similarity should be performed. Since there was fewer items, it was more efficient to calculate item-item similarity."
   ]
  },
  {
   "cell_type": "code",
   "execution_count": 22,
   "metadata": {},
   "outputs": [
    {
     "name": "stdout",
     "output_type": "stream",
     "text": [
      "Number of users:  94111 \n",
      "\n",
      "Number of items:  27452\n"
     ]
    }
   ],
   "source": [
    "# Look at how many users and items are in the dataset\n",
    "dataset = data.build_full_trainset()\n",
    "print('Number of users: ', dataset.n_users, '\\n')\n",
    "print('Number of items: ', dataset.n_items)"
   ]
  },
  {
   "cell_type": "markdown",
   "metadata": {},
   "source": [
    "### Matrix Factorization (Model-Based Method)\n",
    "#### Singular Value Decomposition (SVD)\n",
    "Singular-Value Decomposition or SVD is a common and widely used matrix decomposition method. SVD is the factorization of a matrix into 3 matrices: two orthogonal matrices and one nonnegative rectangular diagonal matrix. SVD decreases the dimension of the matrix by extracting its latent factors.\n",
    "\n",
    "Grid search was implemented to expedite the process of trying out different parameters. The parameter n_jobs was set to -1 to ensure that all of the cores on the computer would be used to process fitting and evaluating all of the models."
   ]
  },
  {
   "cell_type": "code",
   "execution_count": 23,
   "metadata": {},
   "outputs": [],
   "source": [
    "# Import necessary libraries\n",
    "from surprise.model_selection import cross_validate\n",
    "from surprise.prediction_algorithms import SVD\n",
    "from surprise.prediction_algorithms import KNNWithMeans, KNNBasic, KNNBaseline\n",
    "from surprise.model_selection import GridSearchCV\n",
    "import numpy as np"
   ]
  },
  {
   "cell_type": "code",
   "execution_count": 24,
   "metadata": {},
   "outputs": [],
   "source": [
    "# Perform a gridsearch with SVD \n",
    "params = {'n_factors': [20, 50, 100],\n",
    "          'reg_all': [0.02, 0.05, 0.1]}\n",
    "g_s_svd = GridSearchCV(SVD, param_grid=params, n_jobs=-1)\n",
    "g_s_svd.fit(data)"
   ]
  },
  {
   "cell_type": "code",
   "execution_count": 25,
   "metadata": {},
   "outputs": [
    {
     "name": "stdout",
     "output_type": "stream",
     "text": [
      "{'rmse': 1.3682281866178423, 'mae': 1.1102841723023609}\n",
      "{'rmse': {'n_factors': 20, 'reg_all': 0.02}, 'mae': {'n_factors': 20, 'reg_all': 0.02}}\n"
     ]
    }
   ],
   "source": [
    "print(g_s_svd.best_score)\n",
    "print(g_s_svd.best_params)"
   ]
  },
  {
   "cell_type": "markdown",
   "metadata": {},
   "source": [
    "### Neighborhood-Based Methods (Memory-Based)\n",
    "Pearson correlation was used as a similarity metric. Cross-validatoin was performed to determine the optimal model."
   ]
  },
  {
   "cell_type": "markdown",
   "metadata": {},
   "source": [
    "#### KNN Basic Model\n",
    "KNN approache involves finding the top K nearest neighbors for an item. Ratings from the list of nearest neighbors are combined to predict the unknown rating. This involves finding of all item-item correlations."
   ]
  },
  {
   "cell_type": "code",
   "execution_count": 26,
   "metadata": {},
   "outputs": [],
   "source": [
    "# Cross validate with KNNBasic\n",
    "knn_basic = KNNBasic(sim_options={'name':'pearson', 'user_based':False})\n",
    "cv_knn_basic = cross_validate(knn_basic, data, n_jobs=-1)"
   ]
  },
  {
   "cell_type": "code",
   "execution_count": 27,
   "metadata": {},
   "outputs": [
    {
     "name": "stdout",
     "output_type": "stream",
     "text": [
      "('test_rmse', array([1.42692838, 1.42915537, 1.4290986 , 1.43929082, 1.44036736]))\n",
      "('test_mae', array([1.16284694, 1.16779977, 1.16279838, 1.17158708, 1.16876184]))\n",
      "('fit_time', (54.472163915634155, 54.41985774040222, 77.0717933177948, 76.74268889427185, 75.1840751171112))\n",
      "('test_time', (0.24161076545715332, 0.25279784202575684, 0.152357816696167, 0.14374089241027832, 0.17536497116088867))\n",
      "-----------------------\n",
      "1.432968105325569\n"
     ]
    }
   ],
   "source": [
    "for i in cv_knn_basic.items():\n",
    "    print(i)\n",
    "print('-----------------------')\n",
    "print(np.mean(cv_knn_basic['test_rmse']))"
   ]
  },
  {
   "cell_type": "markdown",
   "metadata": {},
   "source": [
    "#### KNN Baseline Model\n",
    "This is a more advanced method because it adds a bias term that is calculated by the way of minimizing a cost function."
   ]
  },
  {
   "cell_type": "code",
   "execution_count": 28,
   "metadata": {},
   "outputs": [
    {
     "name": "stdout",
     "output_type": "stream",
     "text": [
      "Estimating biases using als...\n",
      "Computing the pearson similarity matrix...\n",
      "Done computing similarity matrix.\n",
      "Estimating biases using als...\n",
      "Computing the pearson similarity matrix...\n",
      "Done computing similarity matrix.\n",
      "Estimating biases using als...\n",
      "Computing the pearson similarity matrix...\n",
      "Done computing similarity matrix.\n",
      "Estimating biases using als...\n",
      "Computing the pearson similarity matrix...\n",
      "Done computing similarity matrix.\n",
      "Estimating biases using als...\n",
      "Computing the pearson similarity matrix...\n",
      "Done computing similarity matrix.\n"
     ]
    }
   ],
   "source": [
    "# cross validate with KNNBaseline\n",
    "knn_baseline = KNNBaseline(sim_options={'name':'pearson', 'user_based':False})\n",
    "cv_knn_baseline = cross_validate(knn_baseline, data)"
   ]
  },
  {
   "cell_type": "code",
   "execution_count": 29,
   "metadata": {},
   "outputs": [
    {
     "name": "stdout",
     "output_type": "stream",
     "text": [
      "('test_rmse', array([1.37568668, 1.36428585, 1.36228124, 1.37341282, 1.382706  ]))\n",
      "('test_mae', array([1.12161123, 1.1107468 , 1.11089064, 1.11869795, 1.12474678]))\n",
      "('fit_time', (14.967533111572266, 15.417960166931152, 15.000866174697876, 14.942620038986206, 15.105854988098145))\n",
      "('test_time', (0.1434621810913086, 0.14482474327087402, 0.14496994018554688, 0.26378917694091797, 0.1427769660949707))\n",
      "-----------------------\n"
     ]
    },
    {
     "data": {
      "text/plain": [
       "1.3716745178515029"
      ]
     },
     "execution_count": 29,
     "metadata": {},
     "output_type": "execute_result"
    }
   ],
   "source": [
    "for i in cv_knn_baseline.items():\n",
    "    print(i)\n",
    "print('-----------------------')\n",
    "np.mean(cv_knn_baseline['test_rmse'])"
   ]
  },
  {
   "cell_type": "markdown",
   "metadata": {},
   "source": [
    "#### KNN with Means Model\n",
    "The model takes into account the mean rating of each item."
   ]
  },
  {
   "cell_type": "code",
   "execution_count": 30,
   "metadata": {},
   "outputs": [],
   "source": [
    "knn_means = KNNWithMeans(sim_options={'name':'pearson', 'user_based':False})\n",
    "cv_knn_means = cross_validate(knn_means, data, n_jobs=-1)"
   ]
  },
  {
   "cell_type": "code",
   "execution_count": 31,
   "metadata": {},
   "outputs": [
    {
     "name": "stdout",
     "output_type": "stream",
     "text": [
      "('test_rmse', array([1.44177359, 1.43235086, 1.42619169, 1.44610968, 1.43069342]))\n",
      "('test_mae', array([1.16542204, 1.15748521, 1.15709683, 1.16999389, 1.15978846]))\n",
      "('fit_time', (71.81946325302124, 46.659322023391724, 71.659982919693, 69.3072612285614, 69.05827593803406))\n",
      "('test_time', (0.139207124710083, 0.21593809127807617, 0.13072705268859863, 0.25986695289611816, 0.26727867126464844))\n",
      "-----------------------\n"
     ]
    },
    {
     "data": {
      "text/plain": [
       "1.435423848003595"
      ]
     },
     "execution_count": 31,
     "metadata": {},
     "output_type": "execute_result"
    }
   ],
   "source": [
    "for i in cv_knn_means.items():\n",
    "    print(i)\n",
    "print('-----------------------')\n",
    "np.mean(cv_knn_means['test_rmse'])"
   ]
  },
  {
   "cell_type": "markdown",
   "metadata": {},
   "source": [
    "Based off the resulted outputs, it seemed like the best performing model was the SVD model with n_factors equal to 20 and a regularization rate of 0.02. The model had a RMSE of about 1.368 (lowest among the models), meaning that it was off by roughly 1 point for each guess it made for ratings. The SVD model was used to make predictions."
   ]
  },
  {
   "cell_type": "markdown",
   "metadata": {},
   "source": [
    "Since the goal of the project was to create recommendations specifically tailored to the customers' preferences, the first step was to create a function that would allow to pick randomly selected products and ask the customers to rate them. If the customers had never used the products, they would be able to skip rating them."
   ]
  },
  {
   "cell_type": "code",
   "execution_count": 32,
   "metadata": {},
   "outputs": [],
   "source": [
    "# Write the function to obtain users' ratings\n",
    "def product_rater(df3, num, category=None):\n",
    "    reviewer_ID = 'A2P462UH5L6T57'\n",
    "    rating_list = []\n",
    "    while num > 0:\n",
    "        if category:\n",
    "            product = df3[df3['main_cat'].str.contains(category)].sample(1)\n",
    "        else:\n",
    "            product = df3.sample(1)\n",
    "        print(product)\n",
    "        rating = input('How do you rate this product on a scale of 1-5, press n if you have not used :\\n')\n",
    "        if rating == 'n':\n",
    "            continue\n",
    "        else:\n",
    "            rating_one_product = {'reviewer_Id':reviewer_ID,\n",
    "                                  'product_ID':product['product_ID'].values[0],\n",
    "                                  'rating':rating}\n",
    "            rating_list.append(rating_one_product) \n",
    "            num -= 1\n",
    "    return rating_list      "
   ]
  },
  {
   "cell_type": "code",
   "execution_count": 33,
   "metadata": {},
   "outputs": [
    {
     "name": "stdout",
     "output_type": "stream",
     "text": [
      "        product_ID                                              title main_cat\n",
      "805525  B00E9G91IS  Pink &laquo;Amor&raquo; Bible / Book Cover - 1...    Books\n",
      "How do you rate this product on a scale of 1-5, press n if you have not used :\n",
      "5\n",
      "      product_ID                                      title main_cat\n",
      "1601  156472333X  EP-3488 - GR 3 QUICK FLIP FOR COMMON CORE    Books\n",
      "How do you rate this product on a scale of 1-5, press n if you have not used :\n",
      "4\n",
      "        product_ID                                              title main_cat\n",
      "583277  B0042SWXLK  Is It Sensory or Is It Behavior? Behavior Prob...    Books\n",
      "How do you rate this product on a scale of 1-5, press n if you have not used :\n",
      "5\n",
      "     product_ID                                title main_cat\n",
      "972  0792293347  USA Classic Political Map Laminated    Books\n",
      "How do you rate this product on a scale of 1-5, press n if you have not used :\n",
      "3\n"
     ]
    }
   ],
   "source": [
    "# Obtain user ratings\n",
    "user_rating = product_rater(metadata, 4, 'Books')"
   ]
  },
  {
   "cell_type": "markdown",
   "metadata": {},
   "source": [
    "Ten recommendations for the new user were made based on the new ratings left by the same user."
   ]
  },
  {
   "cell_type": "code",
   "execution_count": 34,
   "metadata": {},
   "outputs": [
    {
     "name": "stdout",
     "output_type": "stream",
     "text": [
      "Recommendation #  1 :  202226    Sharpie Fine Electro Pop Marker, Fine Point, A...\n",
      "Name: title, dtype: object \n",
      "\n",
      "Recommendation #  2 :  283898    Baby Signing Time Volume 1\n",
      "Name: title, dtype: object \n",
      "\n",
      "Recommendation #  3 :  370220    LD Compatible Toner Cartridge Replacement for ...\n",
      "Name: title, dtype: object \n",
      "\n",
      "Recommendation #  4 :  558835    LapWorks 12&quot; Heavy Duty Swivel - for Big ...\n",
      "Name: title, dtype: object \n",
      "\n",
      "Recommendation #  5 :  448188    Quad LCD Monitor Stand desk clamp holds up to ...\n",
      "Name: title, dtype: object \n",
      "\n",
      "Recommendation #  6 :  278497    Canon Photo Paper Plus Semi-Gloss, 13 x 19 Inc...\n",
      "Name: title, dtype: object \n",
      "\n",
      "Recommendation #  7 :  590289    Hewlett Packard BT861AT HP Single Monitor Arm\n",
      "Name: title, dtype: object \n",
      "\n",
      "Recommendation #  8 :  415583    Canon KP-108IN Ink/Paper Set\n",
      "Name: title, dtype: object \n",
      "\n",
      "Recommendation #  9 :  94304    Pilot Precise V5 Rolling Ball Pens, Capped, Ex...\n",
      "Name: title, dtype: object \n",
      "\n",
      "Recommendation #  10 :  290933    EXPO Low Odor Dry Erase Markers, Chisel Tip, A...\n",
      "Name: title, dtype: object \n",
      "\n"
     ]
    }
   ],
   "source": [
    "# Add the new ratings to the original ratings DataFrame\n",
    "new_ratings_df = df_final.append(user_rating, ignore_index=True)\n",
    "new_data = Dataset.load_from_df(new_ratings_df[[\"reviewer_ID\", \"product_ID\", \"rating\"]], reader)\n",
    "\n",
    "# Train a model using the new combined DataFrame\n",
    "svd_ = SVD(n_factors=20, reg_all=0.02)\n",
    "svd_.fit(new_data.build_full_trainset())\n",
    "\n",
    "# Make predictions for the user\n",
    "list_of_products = []\n",
    "for p_id in df_final['product_ID'].unique():\n",
    "    list_of_products.append((p_id, svd_.predict('A2P462UH5L6T57', p_id)[3]))\n",
    "    \n",
    "# Order the predictions from highest to lowest rated\n",
    "ranked_products = sorted(list_of_products, key=lambda x:x[1], reverse=True)\n",
    "\n",
    "# Return the top n recommendations \n",
    "def recommended_products(user_ratings, product_df, n):\n",
    "        for idx, rec in enumerate(user_ratings):\n",
    "            title = product_df.loc[product_df['product_ID'] == str(rec[0])]['title']\n",
    "            print('Recommendation # ', idx+1, ': ', title, '\\n')\n",
    "            n-= 1\n",
    "            if n == 0:\n",
    "                break\n",
    "            \n",
    "recommended_products(ranked_products, metadata, 10)"
   ]
  },
  {
   "cell_type": "markdown",
   "metadata": {},
   "source": [
    "### Modeling in PySpark\n",
    "The saved datasets were used to build a recommendation system using the collaborative filtering technique with Spark's Alternating Least Squares implementation.\n",
    "#### Alternating Least Squares\n",
    "SparkSession object was initialized and the rating dataset was imported."
   ]
  },
  {
   "cell_type": "code",
   "execution_count": 35,
   "metadata": {},
   "outputs": [],
   "source": [
    "# Import necessary library\n",
    "from pyspark.sql import SparkSession\n",
    "\n",
    "# Instantiate SparkSession object\n",
    "spark = SparkSession.builder.master('local').getOrCreate() "
   ]
  },
  {
   "cell_type": "code",
   "execution_count": 36,
   "metadata": {},
   "outputs": [
    {
     "data": {
      "text/plain": [
       "[('reviewer_ID', 'string'), ('product_ID', 'string'), ('rating', 'double')]"
      ]
     },
     "execution_count": 36,
     "metadata": {},
     "output_type": "execute_result"
    }
   ],
   "source": [
    "# Read in the dataset into pyspark DataFrame\n",
    "df = spark.read.csv('Data/Final_Ratings.csv', header='true', inferSchema='true')\n",
    "\n",
    "# Check the data types of each of the columns\n",
    "df.dtypes"
   ]
  },
  {
   "cell_type": "markdown",
   "metadata": {},
   "source": [
    "Since reviewer_ID and product_ID columns were of a string type, StringIndexer had to be used. StringIndexer encoded string columns of labels to columns of label indices. After the application of StringIndexer, the ALS model was fit on the training set, the model was evaluated and RMSE of the test set was printed out."
   ]
  },
  {
   "cell_type": "code",
   "execution_count": 37,
   "metadata": {},
   "outputs": [
    {
     "name": "stdout",
     "output_type": "stream",
     "text": [
      "+--------------+----------+------+--------------+-------------+\n",
      "|   reviewer_ID|product_ID|rating|reviewer_Index|product_Index|\n",
      "+--------------+----------+------+--------------+-------------+\n",
      "|A265QLAEX17D81|B001S2PKJ0|   5.0|       32179.0|       3361.0|\n",
      "|A1E1KH17Q3N0JH|B001B0GWKU|   4.0|       13685.0|       1034.0|\n",
      "|A3BFAU9ZIPY031|B003U5TV98|   5.0|       59340.0|      10268.0|\n",
      "|A1VHKONYYNSUPU|B00BF5LREM|   5.0|       25198.0|       5585.0|\n",
      "|A3E3TAEO67M6WC|B0000C120T|   3.0|       61104.0|         23.0|\n",
      "|A1AJF7L0LLCFYO|B0027ISA1Y|   1.0|       11426.0|        300.0|\n",
      "|  ADLVFFE4VBT8|B00015YOR4|   5.0|          28.0|       1205.0|\n",
      "| ANJNTRCUQA8I4|B0010Z3LGO|   5.0|       85981.0|         31.0|\n",
      "|A2JMJVNTBL7K7E|B00EU9V5EM|   4.0|        2308.0|        309.0|\n",
      "| AGGP41D58P0ZW|B002O1E8H4|   3.0|       81321.0|      19028.0|\n",
      "|A139QJPUBNYPIM|B002VVKZ8S|   3.0|        6638.0|       1145.0|\n",
      "|A21CV7NID13525|B0074W0EYY|   2.0|       29090.0|      23114.0|\n",
      "| AIBM79PJK3PIE|B00005RWGX|   1.0|       82521.0|       3035.0|\n",
      "|A18S78PF0JGUL9|B0007IMMII|   5.0|       10257.0|       3766.0|\n",
      "|A1CSXI7MKL6UKR|B00JXLGETI|   5.0|       12886.0|       2557.0|\n",
      "|A1ZPY91VE3IDN1|B00CPXFEY2|   4.0|          13.0|        661.0|\n",
      "|A16W7KCOLHX1WS|B001TJ7Q44|   4.0|        8990.0|      18191.0|\n",
      "|A32EPET8Z1IABA|B00CA44KN2|   1.0|       53472.0|       7570.0|\n",
      "|A3PJOJ90Q92ISB|B0062A24FG|   5.0|       68725.0|      22554.0|\n",
      "|A1Z8WAZRUQKYWK|B0027ADGOS|   5.0|       27661.0|      18514.0|\n",
      "+--------------+----------+------+--------------+-------------+\n",
      "only showing top 20 rows\n",
      "\n"
     ]
    }
   ],
   "source": [
    "# Import necessary libraries\n",
    "from pyspark.ml.feature import StringIndexer\n",
    "from pyspark.ml import Pipeline\n",
    "\n",
    "# Apply StringIndexer to necessary columns\n",
    "indexers = [StringIndexer(inputCol=\"reviewer_ID\", outputCol=\"reviewer_Index\"),\n",
    "            StringIndexer(inputCol=\"product_ID\", outputCol=\"product_Index\")]\n",
    "\n",
    "# Use pipeline to execute StringIndexer\n",
    "pipeline = Pipeline(stages=indexers)\n",
    "\n",
    "# Fit and transform the DataFrame\n",
    "df_ind = pipeline.fit(df).transform(df)\n",
    "df_ind.show()"
   ]
  },
  {
   "cell_type": "code",
   "execution_count": 38,
   "metadata": {},
   "outputs": [
    {
     "data": {
      "text/plain": [
       "[('reviewer_ID', 'string'),\n",
       " ('product_ID', 'string'),\n",
       " ('rating', 'double'),\n",
       " ('reviewer_Index', 'double'),\n",
       " ('product_Index', 'double')]"
      ]
     },
     "execution_count": 38,
     "metadata": {},
     "output_type": "execute_result"
    }
   ],
   "source": [
    "# Check the types of each column\n",
    "df_ind.dtypes"
   ]
  },
  {
   "cell_type": "code",
   "execution_count": 39,
   "metadata": {},
   "outputs": [],
   "source": [
    "# Import necessary libraries\n",
    "from pyspark.ml.evaluation import RegressionEvaluator\n",
    "from pyspark.ml.recommendation import ALS\n",
    "\n",
    "# Split into training and testing sets\n",
    "(training, test) = df_ind.randomSplit([0.8, 0.2])\n",
    "\n",
    "# Build the recommendation model using ALS on the training data\n",
    "als = ALS(maxIter=10,\n",
    "          rank=50,\n",
    "          regParam=0.5,\n",
    "          userCol='reviewer_Index',\n",
    "          itemCol='product_Index',\n",
    "          ratingCol='rating',\n",
    "          coldStartStrategy='drop')\n",
    "\n",
    "# Fit the ALS model to the training set\n",
    "model = als.fit(training)"
   ]
  },
  {
   "cell_type": "code",
   "execution_count": 40,
   "metadata": {},
   "outputs": [
    {
     "name": "stdout",
     "output_type": "stream",
     "text": [
      "Root-mean-square error = 4.191410387087073\n"
     ]
    }
   ],
   "source": [
    "# Importing appropriate library\n",
    "from pyspark.ml.evaluation import RegressionEvaluator\n",
    "\n",
    "# Evaluate the model by computing the RMSE on the test data\n",
    "predictions = model.transform(test)\n",
    "evaluator = RegressionEvaluator(metricName='rmse', labelCol='rating',\n",
    "                                predictionCol='prediction')\n",
    "rmse = evaluator.evaluate(predictions)\n",
    "print('Root-mean-square error = ' + str(rmse))"
   ]
  },
  {
   "cell_type": "markdown",
   "metadata": {},
   "source": [
    "Although the RMSE value of the ALS model was much higher than the RMSE of the SVD model, the predictions were still made. ALS is good for large-scaled collaborative filtering problems and slightly different from SVD. Spark attempts to offer a somewhat abstracted approach to the development of algorithms within a distributed computing environment, but it performs much slower."
   ]
  },
  {
   "cell_type": "markdown",
   "metadata": {},
   "source": [
    "Before making any recommendations in Spark, the function that took in product_Index and returned a string that represented the product_ID was created. After that the dataset with meta data was imported into a Spark DataFrame. The function that returned the product_ID as a product title was formed. "
   ]
  },
  {
   "cell_type": "code",
   "execution_count": 41,
   "metadata": {},
   "outputs": [],
   "source": [
    "# Create a function that returns product_ID\n",
    "def index_retriever(product_Index, df):\n",
    "    return df.where(df.product_Index == product_Index).take(1)[0]['product_ID']"
   ]
  },
  {
   "cell_type": "code",
   "execution_count": 42,
   "metadata": {},
   "outputs": [
    {
     "data": {
      "text/plain": [
       "'B000K5WIVO'"
      ]
     },
     "execution_count": 42,
     "metadata": {},
     "output_type": "execute_result"
    }
   ],
   "source": [
    "# Try the function\n",
    "index_retriever(1351, df_ind)"
   ]
  },
  {
   "cell_type": "code",
   "execution_count": 43,
   "metadata": {},
   "outputs": [
    {
     "data": {
      "text/plain": [
       "[Row(product_ID='043928631X', title='Harry Potter Lenticular Hologram Bookmark - Harry, Ron &amp; Hermoine', main_cat='Office Products'),\n",
       " Row(product_ID='0439340039', title='Learn About Physical Science : Simple Machines', main_cat='Software'),\n",
       " Row(product_ID='0439394058', title='Scholastic SC939405 All-In-One Schoolhouse Calendar Bulletin Board', main_cat='Office Products'),\n",
       " Row(product_ID='0439492092', title=\"Scholastic Teacher's Friend Happy Thanksgiving! Bulletin Board (TF3073)\", main_cat='Office Products'),\n",
       " Row(product_ID='0439492602', title='Scholastic TF3281 U.S. Coins and Bills Accent Punch-Outs', main_cat='Office Products')]"
      ]
     },
     "execution_count": 43,
     "metadata": {},
     "output_type": "execute_result"
    }
   ],
   "source": [
    "# Import meta data into a Spark DataFrame\n",
    "df_meta = spark.read.csv('Data/Final_Metadata.csv', header='true', inferSchema='true')\n",
    "df_meta.head(5)"
   ]
  },
  {
   "cell_type": "code",
   "execution_count": 44,
   "metadata": {},
   "outputs": [],
   "source": [
    "# Create a function that returns product title\n",
    "def product_retriever(product_ID, product_meta_df):\n",
    "    return product_meta_df.where(product_meta_df.product_ID == product_ID).take(1)[0]['title']"
   ]
  },
  {
   "cell_type": "code",
   "execution_count": 45,
   "metadata": {},
   "outputs": [
    {
     "name": "stdout",
     "output_type": "stream",
     "text": [
      "Advantus Call Bell, 3.38 Inch Diameter, Chrome Finish with Black Base (CB10000)\n"
     ]
    }
   ],
   "source": [
    "# Try the function\n",
    "print(product_retriever('B0013CQFZS', df_meta))"
   ]
  },
  {
   "cell_type": "markdown",
   "metadata": {},
   "source": [
    "A function that took in a new user and some products the user had rated and then returned 10 highest recommended products was created."
   ]
  },
  {
   "cell_type": "code",
   "execution_count": 46,
   "metadata": {},
   "outputs": [],
   "source": [
    "def new_reviewer_recs(reviewer_Index, new_ratings, df, rating_df, product_meta_df, num_recs):\n",
    "    \n",
    "    # turn the new_recommendations list into a spark DataFrame\n",
    "    new_reviewer_ratings = spark.createDataFrame(new_ratings, df.columns)\n",
    "    new_ratings =  pipeline.fit(new_reviewer_ratings).transform(new_reviewer_ratings)\n",
    "    \n",
    "    # combine the new ratings df with the rating_df\n",
    "    product_ratings_combined = rating_df.union(new_ratings)\n",
    "    \n",
    "    # create an ALS model and fit it\n",
    "    als = ALS(maxIter=10,\n",
    "              rank=50,\n",
    "              regParam=0.5,\n",
    "              userCol=\"reviewer_Index\",\n",
    "              itemCol=\"product_Index\",\n",
    "              ratingCol=\"rating\",\n",
    "              coldStartStrategy=\"drop\")\n",
    "    model = als.fit(product_ratings_combined)\n",
    "    \n",
    "    # make recommendations for all users using the recommendForAllUsers method\n",
    "    recommendations = model.recommendForAllUsers(num_recs)\n",
    "    \n",
    "    # get recommendations specifically for the new user that has been added to the DataFrame\n",
    "    recs_for_user = recommendations.where(recommendations.reviewer_Index == reviewer_Index).take(1)\n",
    "    \n",
    "    for ranking, (product_Index, product_ID) in enumerate(recs_for_user[0]['recommendations']):\n",
    "        index = index_retriever(product_Index, rating_df)\n",
    "        product = product_retriever(index, product_meta_df)\n",
    "        print('Recommendation {}: {} | product_ID: {}'.format(ranking+1, product, index))"
   ]
  },
  {
   "cell_type": "code",
   "execution_count": 47,
   "metadata": {},
   "outputs": [],
   "source": [
    "# Try out the function using the product_Indexes listed below\n",
    "reviewer_Index = 84718\n",
    "reviewer_ratings = [(reviewer_Index, 622, 4),\n",
    "                    (reviewer_Index, 325, 5),\n",
    "                    (reviewer_Index, 836, 5),\n",
    "                    (reviewer_Index, 720, 3),\n",
    "                    (reviewer_Index, 538, 5)]"
   ]
  },
  {
   "cell_type": "code",
   "execution_count": 48,
   "metadata": {},
   "outputs": [
    {
     "name": "stdout",
     "output_type": "stream",
     "text": [
      "Recommendation 1: Tree-Free Greetings Christmas Cuteness Holiday Card Value Assortment, 5 x 7 Inches, 24 Cards and Envelopes per Set, Multi-Color (91188) | product_ID: B005NPOBR0\n",
      "Recommendation 2: Gift Trenz Humming Bird with Rose Magnetic Bookmark | product_ID: B0013HSHGS\n",
      "Recommendation 3: Pacific Arc Adjustable Acrylic Triangle 8 in. | product_ID: B004BNBRIG\n",
      "Recommendation 4: Coin / Cash / Small Parts #7 White Envelopes, 3-1/2&quot; X 6-1/2&quot;, 24lb, 500/box (SY425) | product_ID: B007EWM4JW\n",
      "Recommendation 5: Ata-Boy DC Superheroes Wonder Woman Mouse Pad | product_ID: B000F1SY2K\n",
      "Recommendation 6: Sweet Dear Rose Romantic Love Him Husband Her Wife Spouse Friend Beautiful Anniversary Birthday Greetiing Card 5x7 by QuickieCards | product_ID: B005NWXCDW\n",
      "Recommendation 7: Southworth Soccer Athletic Award Kit, Certificates with Embossed Holders, 10 count (MSK-5) | product_ID: B006MNHIBS\n",
      "Recommendation 8: Premium Universal Notebook Power Adapter for HP, Sony, Fujitsu, Haier, Toshiba, NEC, Dell, Lenovo, Hasee, Compaq, Acer, Getaway, Asus, Liteon, Delta, Sharp. Black -Free DreamBargains Neckstrap / Lanyard! | product_ID: B00E4WZKZ0\n",
      "Recommendation 9: Ampad EarthWise Business Envelopes, # 10, 22 Pound Paper, Gummed Closure, V-Flap, 500 per Box (19702R) | product_ID: B000J09DNQ\n",
      "Recommendation 10: Porsche Design P3110 TecFlex Stainless Steel Gold Rollerball Pen 188521 | product_ID: B001BKNF5U\n"
     ]
    }
   ],
   "source": [
    "# Get 10 recommendations for the user\n",
    "new_reviewer_recs(reviewer_Index,\n",
    "                  new_ratings=reviewer_ratings,\n",
    "                  df=df,\n",
    "                  rating_df=df_ind,\n",
    "                  product_meta_df=df_meta,\n",
    "                  num_recs = 10)"
   ]
  },
  {
   "cell_type": "markdown",
   "metadata": {},
   "source": [
    "### A/B Testing\n",
    "The Stationary and Co. Company also asked to design an experiment to test whether it would be more effective for the company's marketing team to offer their products in a pack of two instead of just one. The company said if they had an absolute increase in the buying rate of just 5%, it'd be worth making the change. The company also mentioned that the experiment could be run for a month since they needed to make a decision fast enough before the beginning of a new school year. The company said they had about 6.5 million unique visitors per day and around 25% of them buy some product every day.\n",
    "\n",
    "It turned out the [standard deviation]( https://www.macroaxis.com/invest/technicalIndicator/AMZN/Standard-Deviation) of the company is 2.74. Since the current buying rate is 25% and 5% rate increase is what the company is looking for, the following hypotheses can be stated:\n",
    "\n",
    "* Null Hypothesis: the probability of success for the new pack is < 0.3\n",
    "* Alternative Hypothesis: the probability of success for the new pack is >= 0.3\n",
    "\n",
    "A power analysis was performed to find the minimum number of samples needed to see an increase of 5% from 25% if a typical power of 0.8 and a conservative alpha of 0.01 were chosen."
   ]
  },
  {
   "cell_type": "code",
   "execution_count": 49,
   "metadata": {},
   "outputs": [
    {
     "data": {
      "text/plain": [
       "60278.543577176126"
      ]
     },
     "execution_count": 49,
     "metadata": {},
     "output_type": "execute_result"
    }
   ],
   "source": [
    "# Import necessary libraries\n",
    "from statsmodels.stats.power import TTestIndPower, TTestPower\n",
    "\n",
    "# Calculate the required sample size to detect a .05 increase in buying\n",
    "power_analysis = TTestIndPower()\n",
    "mean_difference = 0.05\n",
    "sd = 2.74\n",
    "effect_size = mean_difference / sd\n",
    "power_analysis.solve_power(alpha=.01, effect_size=effect_size, power=.80, alternative='larger')"
   ]
  },
  {
   "cell_type": "markdown",
   "metadata": {},
   "source": [
    "It turned out that the minimum number of customers needed for the experiment was 60,279.\n",
    "\n",
    "Two groups participated in the experiment: a control group that had no change in the amount of packed product and an experiment group that had the updated package. About a month's worth of data for the control and experiment groups was collected (the data was made-up). The data was aggregated in separate files for the two groups. The files contained 28 days with the number of bought products recorded for each day."
   ]
  },
  {
   "cell_type": "code",
   "execution_count": 50,
   "metadata": {},
   "outputs": [
    {
     "data": {
      "text/html": [
       "<div>\n",
       "<style scoped>\n",
       "    .dataframe tbody tr th:only-of-type {\n",
       "        vertical-align: middle;\n",
       "    }\n",
       "\n",
       "    .dataframe tbody tr th {\n",
       "        vertical-align: top;\n",
       "    }\n",
       "\n",
       "    .dataframe thead th {\n",
       "        text-align: right;\n",
       "    }\n",
       "</style>\n",
       "<table border=\"1\" class=\"dataframe\">\n",
       "  <thead>\n",
       "    <tr style=\"text-align: right;\">\n",
       "      <th></th>\n",
       "      <th>views</th>\n",
       "      <th>bought</th>\n",
       "    </tr>\n",
       "  </thead>\n",
       "  <tbody>\n",
       "    <tr>\n",
       "      <th>0</th>\n",
       "      <td>75348</td>\n",
       "      <td>18837</td>\n",
       "    </tr>\n",
       "    <tr>\n",
       "      <th>1</th>\n",
       "      <td>74856</td>\n",
       "      <td>22456</td>\n",
       "    </tr>\n",
       "    <tr>\n",
       "      <th>2</th>\n",
       "      <td>63200</td>\n",
       "      <td>12640</td>\n",
       "    </tr>\n",
       "    <tr>\n",
       "      <th>3</th>\n",
       "      <td>69800</td>\n",
       "      <td>10470</td>\n",
       "    </tr>\n",
       "    <tr>\n",
       "      <th>4</th>\n",
       "      <td>74328</td>\n",
       "      <td>26014</td>\n",
       "    </tr>\n",
       "  </tbody>\n",
       "</table>\n",
       "</div>"
      ],
      "text/plain": [
       "   views  bought\n",
       "0  75348   18837\n",
       "1  74856   22456\n",
       "2  63200   12640\n",
       "3  69800   10470\n",
       "4  74328   26014"
      ]
     },
     "execution_count": 50,
     "metadata": {},
     "output_type": "execute_result"
    }
   ],
   "source": [
    "# Load the data\n",
    "control = pd.read_excel('Data/Control.xlsx')\n",
    "control.head()"
   ]
  },
  {
   "cell_type": "code",
   "execution_count": 51,
   "metadata": {},
   "outputs": [
    {
     "data": {
      "text/html": [
       "<div>\n",
       "<style scoped>\n",
       "    .dataframe tbody tr th:only-of-type {\n",
       "        vertical-align: middle;\n",
       "    }\n",
       "\n",
       "    .dataframe tbody tr th {\n",
       "        vertical-align: top;\n",
       "    }\n",
       "\n",
       "    .dataframe thead th {\n",
       "        text-align: right;\n",
       "    }\n",
       "</style>\n",
       "<table border=\"1\" class=\"dataframe\">\n",
       "  <thead>\n",
       "    <tr style=\"text-align: right;\">\n",
       "      <th></th>\n",
       "      <th>views</th>\n",
       "      <th>bought</th>\n",
       "    </tr>\n",
       "  </thead>\n",
       "  <tbody>\n",
       "    <tr>\n",
       "      <th>0</th>\n",
       "      <td>77035</td>\n",
       "      <td>12800</td>\n",
       "    </tr>\n",
       "    <tr>\n",
       "      <th>1</th>\n",
       "      <td>63840</td>\n",
       "      <td>10050</td>\n",
       "    </tr>\n",
       "    <tr>\n",
       "      <th>2</th>\n",
       "      <td>68390</td>\n",
       "      <td>8030</td>\n",
       "    </tr>\n",
       "    <tr>\n",
       "      <th>3</th>\n",
       "      <td>79085</td>\n",
       "      <td>6500</td>\n",
       "    </tr>\n",
       "    <tr>\n",
       "      <th>4</th>\n",
       "      <td>61320</td>\n",
       "      <td>14302</td>\n",
       "    </tr>\n",
       "  </tbody>\n",
       "</table>\n",
       "</div>"
      ],
      "text/plain": [
       "   views  bought\n",
       "0  77035   12800\n",
       "1  63840   10050\n",
       "2  68390    8030\n",
       "3  79085    6500\n",
       "4  61320   14302"
      ]
     },
     "execution_count": 51,
     "metadata": {},
     "output_type": "execute_result"
    }
   ],
   "source": [
    "# Load the data\n",
    "experiment = pd.read_excel('Data/Experiment.xlsx')\n",
    "experiment.head()"
   ]
  },
  {
   "cell_type": "markdown",
   "metadata": {},
   "source": [
    "The data was visualized. Since the frequency of bought products was of interest, the chi-square goodness-of-fit test was used. The first step was to get the data into a format of \"observed\" (experiment) vs \"expected\" (control). Then  the Chi-Square Goodness of Fit Test using the chisquare function from the SciPy library was performed."
   ]
  },
  {
   "cell_type": "code",
   "execution_count": 52,
   "metadata": {},
   "outputs": [
    {
     "data": {
      "image/png": "[encoded data removed]",
      "text/plain": [
       "<Figure size 720x432 with 2 Axes>"
      ]
     },
     "metadata": {
      "needs_background": "light"
     },
     "output_type": "display_data"
    }
   ],
   "source": [
    "# Visualize the data\n",
    "import matplotlib.pyplot as plt\n",
    "f, (ax0,ax1) = plt.subplots(nrows=2, figsize=(10,6))\n",
    "\n",
    "# Views\n",
    "ax0.set_title('Views')\n",
    "sns.kdeplot(data=control.views, ax=ax0, label='Control')\n",
    "sns.kdeplot(data=experiment.views, ax=ax0, label='Experiment')\n",
    "ax0.legend()\n",
    "\n",
    "# Bought\n",
    "ax1.set_title('Bought')\n",
    "sns.kdeplot(data=control.bought, ax=ax1, label='Control')\n",
    "sns.kdeplot(data=experiment.bought, ax=ax1, label='Experiment')\n",
    "ax1.legend()\n",
    "\n",
    "plt.tight_layout()"
   ]
  },
  {
   "cell_type": "code",
   "execution_count": 53,
   "metadata": {},
   "outputs": [],
   "source": [
    "# Sum all the days together to see an overall change\n",
    "control_views = sum(control.views)\n",
    "control_bought = sum(control.bought)\n",
    "\n",
    "experiment_views = sum(experiment.views)\n",
    "experiment_bought = sum(experiment.bought)"
   ]
  },
  {
   "cell_type": "code",
   "execution_count": 54,
   "metadata": {},
   "outputs": [
    {
     "name": "stdout",
     "output_type": "stream",
     "text": [
      "OBSERVED (expermiment): [ 373031 1697245]\n",
      "EXPECTED (control): [ 495361 1545442]\n"
     ]
    }
   ],
   "source": [
    "# Create two arrays to hold \"observed\" and \"expected\" numbers\n",
    "observations = np.array([experiment_bought, experiment_views - experiment_bought])\n",
    "expectations = np.array([control_bought, control_views - control_bought])\n",
    "\n",
    "print('OBSERVED (expermiment):', observations)\n",
    "print('EXPECTED (control):', expectations)"
   ]
  },
  {
   "cell_type": "code",
   "execution_count": 55,
   "metadata": {},
   "outputs": [
    {
     "data": {
      "text/plain": [
       "Power_divergenceResult(statistic=45120.58408431016, pvalue=0.0)"
      ]
     },
     "execution_count": 55,
     "metadata": {},
     "output_type": "execute_result"
    }
   ],
   "source": [
    "# Import necessary library\n",
    "import scipy.stats as stats\n",
    "\n",
    "# Perform Chi-Square Goodness of Fit Test\n",
    "stats.chisquare(f_obs=observations, f_exp=expectations)"
   ]
  },
  {
   "cell_type": "code",
   "execution_count": 56,
   "metadata": {},
   "outputs": [
    {
     "name": "stdout",
     "output_type": "stream",
     "text": [
      "Percent Experiment Bought: 18.018%\n",
      "Percent Control Bought: 24.273%\n",
      "Difference between experiment & control -6.25%\n"
     ]
    }
   ],
   "source": [
    "# Calculate the difference between the experiment and control\n",
    "experiment_percent = experiment_bought/experiment_views*100\n",
    "print(f'Percent Experiment Bought: {experiment_percent:.5}%')\n",
    "control_percent = control_bought/control_views*100\n",
    "print(f'Percent Control Bought: {control_percent:.5}%')\n",
    "print(f'Difference between experiment & control {experiment_percent-control_percent:.3}%')"
   ]
  },
  {
   "cell_type": "markdown",
   "metadata": {},
   "source": [
    "Since the p-value was less than 0.01, the null hypothesis was rejected. We're 99% confident that there was an observable effect in buying rate by changing the quantity in the pack of the products. The difference in package was observed to decrease the buying rate by an absolute amount of about 6.25%. This change cannot be made valuable since we are confident that the effect was real.\n",
    "***"
   ]
  },
  {
   "cell_type": "markdown",
   "metadata": {},
   "source": [
    "### Evaluation\n",
    "Thus, it was possible to conclude that the best model for the recommendation system was the SVD model with the lowest RMSE value of 1.368. That model was off by roughly 1 point for each guess it made for ratings. The Singular-Value Decomposition is a matrix decomposition method for reducing a matrix to its constituent parts in order to make certain subsequent matrix calculations simpler. The method is faster and more stable than other methods.\n",
    "\n",
    "The A/B Testing showed that the change in the package of the products (pack of two instead of one) would decrease the buying rate by about 6.25%. Thus, we can confidently conclude, that the mentioned change will not be worth to implement.\n",
    "***"
   ]
  },
  {
   "cell_type": "markdown",
   "metadata": {},
   "source": [
    "### Conclusions\n",
    "Thus, for the Stationary and Co. Company we can advise to use the SVD model for the recommendation system of their office products in order to provide a high level of presonalization to their customers. As concerns the change in the package quantity, we are 99% confident that there is an observable effect in buying rate if the changes are made. However, offering a pack of two instead of one will decrease the buying rate by about 6.25%. Thus, we can advise not to implement any changes in the package quantity.\n",
    "\n",
    "Of coarse, the models are not ideal and more digging can be beneficial. Thus, we can try to tune the ALS model and see if it can work any better. As concerns the A/B testing, the company should come out with some other ideas how to increase sales, like changing the website by making it more user-friendly or just offering discounts on the customers' birthdays...\n",
    "***"
   ]
  },
  {
   "cell_type": "markdown",
   "metadata": {},
   "source": [
    "### Reproduction Instructions\n",
    "This project uses:\n",
    "\n",
    "* [Anaconda](https://www.anaconda.com), a package and environment management tool\n",
    "* Python 3.8.5, with the following additional packages/libraries:\n",
    "  * Pandas 1.1.3\n",
    "  * NumPy 1.18.5\n",
    "  * Matplotlib 3.3.1\n",
    "  * Seaborn 0.11.0\n",
    "  * Scikit-Learn 0.23.2\n",
    "  * Scikit-Surprise 1.1.1\n",
    "  * PySpark 3.0.0\n",
    "  \n",
    "If you would like to follow the analysis locally and have the above tools:\n",
    "* Fork and clone this repository.\n",
    "* Go to the [Amazon review data (2018)](http://deepyeti.ucsd.edu/jianmo/amazon/index.html) page and download the data files.\n",
    "* You should then be able to run the analysis in the provided [Office_Supplies Jupyter Notebook](https://github.com/VolhaP87/Office_Supplies_Recommendation_System/blob/main/Office_Supplies.ipynb).\n",
    "***"
   ]
  },
  {
   "cell_type": "markdown",
   "metadata": {},
   "source": [
    "### Sources\n",
    "* [Amazon review data (2018)](http://deepyeti.ucsd.edu/jianmo/amazon/index.html) page\n",
    "* [Recommendation System Presentation](https://github.com/VolhaP87/Office_Supplies_Recommendation_System/blob/main/Recommendation%20System%20Presentation.pdf)\n",
    "***"
   ]
  },
  {
   "cell_type": "markdown",
   "metadata": {},
   "source": [
    "### Contact Information\n",
    "With questions or feedback on this repository, please reach out via:\n",
    "* [GitHub](https://github.com/VolhaP87?tab=repositories)\n",
    "* [LinkedIn](https://www.linkedin.com/in/volha-puzikava-2319294a/)"
   ]
  }
 ],
 "metadata": {
  "kernelspec": {
   "display_name": "Python (learn-env)",
   "language": "python",
   "name": "learn-env"
  },
  "language_info": {
   "codemirror_mode": {
    "name": "ipython",
    "version": 3
   },
   "file_extension": ".py",
   "mimetype": "text/x-python",
   "name": "python",
   "nbconvert_exporter": "python",
   "pygments_lexer": "ipython3",
   "version": "3.8.5"
  }
 },
 "nbformat": 4,
 "nbformat_minor": 4
}
