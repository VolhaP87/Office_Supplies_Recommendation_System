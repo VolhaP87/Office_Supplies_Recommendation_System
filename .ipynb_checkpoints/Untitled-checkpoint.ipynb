{
 "cells": [
  {
   "cell_type": "code",
   "execution_count": 1,
   "metadata": {},
   "outputs": [
    {
     "data": {
      "text/html": [
       "<div>\n",
       "<style scoped>\n",
       "    .dataframe tbody tr th:only-of-type {\n",
       "        vertical-align: middle;\n",
       "    }\n",
       "\n",
       "    .dataframe tbody tr th {\n",
       "        vertical-align: top;\n",
       "    }\n",
       "\n",
       "    .dataframe thead th {\n",
       "        text-align: right;\n",
       "    }\n",
       "</style>\n",
       "<table border=\"1\" class=\"dataframe\">\n",
       "  <thead>\n",
       "    <tr style=\"text-align: right;\">\n",
       "      <th></th>\n",
       "      <th>0</th>\n",
       "      <th>1</th>\n",
       "      <th>2</th>\n",
       "      <th>3</th>\n",
       "    </tr>\n",
       "  </thead>\n",
       "  <tbody>\n",
       "    <tr>\n",
       "      <th>0</th>\n",
       "      <td>A2UESEUCI73CBO</td>\n",
       "      <td>0078800242</td>\n",
       "      <td>5.0</td>\n",
       "      <td>1374192000</td>\n",
       "    </tr>\n",
       "    <tr>\n",
       "      <th>1</th>\n",
       "      <td>A3BBNK2R5TUYGV</td>\n",
       "      <td>0113000316</td>\n",
       "      <td>5.0</td>\n",
       "      <td>1359417600</td>\n",
       "    </tr>\n",
       "    <tr>\n",
       "      <th>2</th>\n",
       "      <td>A5J78T14FJ5DU</td>\n",
       "      <td>0113000316</td>\n",
       "      <td>3.0</td>\n",
       "      <td>1318723200</td>\n",
       "    </tr>\n",
       "    <tr>\n",
       "      <th>3</th>\n",
       "      <td>A2P462UH5L6T57</td>\n",
       "      <td>043928631X</td>\n",
       "      <td>5.0</td>\n",
       "      <td>1356912000</td>\n",
       "    </tr>\n",
       "    <tr>\n",
       "      <th>4</th>\n",
       "      <td>A2E0X1MWNRTQF4</td>\n",
       "      <td>0439340039</td>\n",
       "      <td>1.0</td>\n",
       "      <td>1379721600</td>\n",
       "    </tr>\n",
       "  </tbody>\n",
       "</table>\n",
       "</div>"
      ],
      "text/plain": [
       "                0           1    2           3\n",
       "0  A2UESEUCI73CBO  0078800242  5.0  1374192000\n",
       "1  A3BBNK2R5TUYGV  0113000316  5.0  1359417600\n",
       "2   A5J78T14FJ5DU  0113000316  3.0  1318723200\n",
       "3  A2P462UH5L6T57  043928631X  5.0  1356912000\n",
       "4  A2E0X1MWNRTQF4  0439340039  1.0  1379721600"
      ]
     },
     "execution_count": 1,
     "metadata": {},
     "output_type": "execute_result"
    }
   ],
   "source": [
    "import pandas as pd\n",
    "df1 = pd.read_csv('ratings_Office_Products.csv', header=None)\n",
    "df1.head()"
   ]
  },
  {
   "cell_type": "code",
   "execution_count": 2,
   "metadata": {},
   "outputs": [
    {
     "data": {
      "text/html": [
       "<div>\n",
       "<style scoped>\n",
       "    .dataframe tbody tr th:only-of-type {\n",
       "        vertical-align: middle;\n",
       "    }\n",
       "\n",
       "    .dataframe tbody tr th {\n",
       "        vertical-align: top;\n",
       "    }\n",
       "\n",
       "    .dataframe thead th {\n",
       "        text-align: right;\n",
       "    }\n",
       "</style>\n",
       "<table border=\"1\" class=\"dataframe\">\n",
       "  <thead>\n",
       "    <tr style=\"text-align: right;\">\n",
       "      <th></th>\n",
       "      <th>reviewer_ID</th>\n",
       "      <th>product_ID</th>\n",
       "      <th>rating</th>\n",
       "      <th>time</th>\n",
       "    </tr>\n",
       "  </thead>\n",
       "  <tbody>\n",
       "    <tr>\n",
       "      <th>0</th>\n",
       "      <td>A2UESEUCI73CBO</td>\n",
       "      <td>0078800242</td>\n",
       "      <td>5.0</td>\n",
       "      <td>1374192000</td>\n",
       "    </tr>\n",
       "    <tr>\n",
       "      <th>1</th>\n",
       "      <td>A3BBNK2R5TUYGV</td>\n",
       "      <td>0113000316</td>\n",
       "      <td>5.0</td>\n",
       "      <td>1359417600</td>\n",
       "    </tr>\n",
       "    <tr>\n",
       "      <th>2</th>\n",
       "      <td>A5J78T14FJ5DU</td>\n",
       "      <td>0113000316</td>\n",
       "      <td>3.0</td>\n",
       "      <td>1318723200</td>\n",
       "    </tr>\n",
       "    <tr>\n",
       "      <th>3</th>\n",
       "      <td>A2P462UH5L6T57</td>\n",
       "      <td>043928631X</td>\n",
       "      <td>5.0</td>\n",
       "      <td>1356912000</td>\n",
       "    </tr>\n",
       "    <tr>\n",
       "      <th>4</th>\n",
       "      <td>A2E0X1MWNRTQF4</td>\n",
       "      <td>0439340039</td>\n",
       "      <td>1.0</td>\n",
       "      <td>1379721600</td>\n",
       "    </tr>\n",
       "  </tbody>\n",
       "</table>\n",
       "</div>"
      ],
      "text/plain": [
       "      reviewer_ID  product_ID  rating        time\n",
       "0  A2UESEUCI73CBO  0078800242     5.0  1374192000\n",
       "1  A3BBNK2R5TUYGV  0113000316     5.0  1359417600\n",
       "2   A5J78T14FJ5DU  0113000316     3.0  1318723200\n",
       "3  A2P462UH5L6T57  043928631X     5.0  1356912000\n",
       "4  A2E0X1MWNRTQF4  0439340039     1.0  1379721600"
      ]
     },
     "execution_count": 2,
     "metadata": {},
     "output_type": "execute_result"
    }
   ],
   "source": [
    "df1.columns = ['reviewer_ID', 'product_ID', 'rating', 'time']\n",
    "df1.head()"
   ]
  },
  {
   "cell_type": "code",
   "execution_count": 3,
   "metadata": {},
   "outputs": [
    {
     "data": {
      "text/html": [
       "<div>\n",
       "<style scoped>\n",
       "    .dataframe tbody tr th:only-of-type {\n",
       "        vertical-align: middle;\n",
       "    }\n",
       "\n",
       "    .dataframe tbody tr th {\n",
       "        vertical-align: top;\n",
       "    }\n",
       "\n",
       "    .dataframe thead th {\n",
       "        text-align: right;\n",
       "    }\n",
       "</style>\n",
       "<table border=\"1\" class=\"dataframe\">\n",
       "  <thead>\n",
       "    <tr style=\"text-align: right;\">\n",
       "      <th></th>\n",
       "      <th>title</th>\n",
       "      <th>main_cat</th>\n",
       "      <th>asin</th>\n",
       "    </tr>\n",
       "  </thead>\n",
       "  <tbody>\n",
       "    <tr>\n",
       "      <th>0</th>\n",
       "      <td>Sequential Spelling Level 1 Bundle with Studen...</td>\n",
       "      <td>Office Products</td>\n",
       "      <td>0012624861</td>\n",
       "    </tr>\n",
       "    <tr>\n",
       "      <th>1</th>\n",
       "      <td>Mathematics, Applications and Concepts, Course...</td>\n",
       "      <td>Books</td>\n",
       "      <td>0078652669</td>\n",
       "    </tr>\n",
       "    <tr>\n",
       "      <th>2</th>\n",
       "      <td>Pearson MyHistoryLab Online Access Code for Am...</td>\n",
       "      <td>Office Products</td>\n",
       "      <td>0136039847</td>\n",
       "    </tr>\n",
       "    <tr>\n",
       "      <th>3</th>\n",
       "      <td>A Pocket for Corduroy</td>\n",
       "      <td>Office Products</td>\n",
       "      <td>0140503528</td>\n",
       "    </tr>\n",
       "    <tr>\n",
       "      <th>4</th>\n",
       "      <td>Social Entrepreneurship: What Everyone Needs t...</td>\n",
       "      <td>Books</td>\n",
       "      <td>0195396332</td>\n",
       "    </tr>\n",
       "  </tbody>\n",
       "</table>\n",
       "</div>"
      ],
      "text/plain": [
       "                                               title         main_cat  \\\n",
       "0  Sequential Spelling Level 1 Bundle with Studen...  Office Products   \n",
       "1  Mathematics, Applications and Concepts, Course...            Books   \n",
       "2  Pearson MyHistoryLab Online Access Code for Am...  Office Products   \n",
       "3                              A Pocket for Corduroy  Office Products   \n",
       "4  Social Entrepreneurship: What Everyone Needs t...            Books   \n",
       "\n",
       "         asin  \n",
       "0  0012624861  \n",
       "1  0078652669  \n",
       "2  0136039847  \n",
       "3  0140503528  \n",
       "4  0195396332  "
      ]
     },
     "execution_count": 3,
     "metadata": {},
     "output_type": "execute_result"
    }
   ],
   "source": [
    "df_meta = pd.read_csv('Office_Products.csv')\n",
    "df_meta.head()"
   ]
  },
  {
   "cell_type": "code",
   "execution_count": 4,
   "metadata": {},
   "outputs": [
    {
     "data": {
      "text/html": [
       "<div>\n",
       "<style scoped>\n",
       "    .dataframe tbody tr th:only-of-type {\n",
       "        vertical-align: middle;\n",
       "    }\n",
       "\n",
       "    .dataframe tbody tr th {\n",
       "        vertical-align: top;\n",
       "    }\n",
       "\n",
       "    .dataframe thead th {\n",
       "        text-align: right;\n",
       "    }\n",
       "</style>\n",
       "<table border=\"1\" class=\"dataframe\">\n",
       "  <thead>\n",
       "    <tr style=\"text-align: right;\">\n",
       "      <th></th>\n",
       "      <th>title</th>\n",
       "      <th>main_cat</th>\n",
       "      <th>product_ID</th>\n",
       "    </tr>\n",
       "  </thead>\n",
       "  <tbody>\n",
       "    <tr>\n",
       "      <th>0</th>\n",
       "      <td>Sequential Spelling Level 1 Bundle with Studen...</td>\n",
       "      <td>Office Products</td>\n",
       "      <td>0012624861</td>\n",
       "    </tr>\n",
       "    <tr>\n",
       "      <th>1</th>\n",
       "      <td>Mathematics, Applications and Concepts, Course...</td>\n",
       "      <td>Books</td>\n",
       "      <td>0078652669</td>\n",
       "    </tr>\n",
       "    <tr>\n",
       "      <th>2</th>\n",
       "      <td>Pearson MyHistoryLab Online Access Code for Am...</td>\n",
       "      <td>Office Products</td>\n",
       "      <td>0136039847</td>\n",
       "    </tr>\n",
       "    <tr>\n",
       "      <th>3</th>\n",
       "      <td>A Pocket for Corduroy</td>\n",
       "      <td>Office Products</td>\n",
       "      <td>0140503528</td>\n",
       "    </tr>\n",
       "    <tr>\n",
       "      <th>4</th>\n",
       "      <td>Social Entrepreneurship: What Everyone Needs t...</td>\n",
       "      <td>Books</td>\n",
       "      <td>0195396332</td>\n",
       "    </tr>\n",
       "  </tbody>\n",
       "</table>\n",
       "</div>"
      ],
      "text/plain": [
       "                                               title         main_cat  \\\n",
       "0  Sequential Spelling Level 1 Bundle with Studen...  Office Products   \n",
       "1  Mathematics, Applications and Concepts, Course...            Books   \n",
       "2  Pearson MyHistoryLab Online Access Code for Am...  Office Products   \n",
       "3                              A Pocket for Corduroy  Office Products   \n",
       "4  Social Entrepreneurship: What Everyone Needs t...            Books   \n",
       "\n",
       "   product_ID  \n",
       "0  0012624861  \n",
       "1  0078652669  \n",
       "2  0136039847  \n",
       "3  0140503528  \n",
       "4  0195396332  "
      ]
     },
     "execution_count": 4,
     "metadata": {},
     "output_type": "execute_result"
    }
   ],
   "source": [
    "meta_df = df_meta.rename(columns={\"asin\" : \"product_ID\"})\n",
    "meta_df.head()"
   ]
  },
  {
   "cell_type": "code",
   "execution_count": 5,
   "metadata": {},
   "outputs": [
    {
     "data": {
      "text/html": [
       "<div>\n",
       "<style scoped>\n",
       "    .dataframe tbody tr th:only-of-type {\n",
       "        vertical-align: middle;\n",
       "    }\n",
       "\n",
       "    .dataframe tbody tr th {\n",
       "        vertical-align: top;\n",
       "    }\n",
       "\n",
       "    .dataframe thead th {\n",
       "        text-align: right;\n",
       "    }\n",
       "</style>\n",
       "<table border=\"1\" class=\"dataframe\">\n",
       "  <thead>\n",
       "    <tr style=\"text-align: right;\">\n",
       "      <th></th>\n",
       "      <th>reviewer_ID</th>\n",
       "      <th>product_ID</th>\n",
       "      <th>rating</th>\n",
       "      <th>time</th>\n",
       "      <th>title</th>\n",
       "      <th>main_cat</th>\n",
       "    </tr>\n",
       "  </thead>\n",
       "  <tbody>\n",
       "    <tr>\n",
       "      <th>0</th>\n",
       "      <td>A2P462UH5L6T57</td>\n",
       "      <td>043928631X</td>\n",
       "      <td>5.0</td>\n",
       "      <td>1356912000</td>\n",
       "      <td>Harry Potter Lenticular Hologram Bookmark - Ha...</td>\n",
       "      <td>Office Products</td>\n",
       "    </tr>\n",
       "    <tr>\n",
       "      <th>1</th>\n",
       "      <td>A2E0X1MWNRTQF4</td>\n",
       "      <td>0439340039</td>\n",
       "      <td>1.0</td>\n",
       "      <td>1379721600</td>\n",
       "      <td>Learn About Physical Science : Simple Machines</td>\n",
       "      <td>Software</td>\n",
       "    </tr>\n",
       "    <tr>\n",
       "      <th>2</th>\n",
       "      <td>AAYGDWCI3LDQP</td>\n",
       "      <td>0439394058</td>\n",
       "      <td>5.0</td>\n",
       "      <td>1405382400</td>\n",
       "      <td>Scholastic SC939405 All-In-One Schoolhouse Cal...</td>\n",
       "      <td>Office Products</td>\n",
       "    </tr>\n",
       "    <tr>\n",
       "      <th>3</th>\n",
       "      <td>AI7SARYVM8FGA</td>\n",
       "      <td>0439394058</td>\n",
       "      <td>4.0</td>\n",
       "      <td>1212624000</td>\n",
       "      <td>Scholastic SC939405 All-In-One Schoolhouse Cal...</td>\n",
       "      <td>Office Products</td>\n",
       "    </tr>\n",
       "    <tr>\n",
       "      <th>4</th>\n",
       "      <td>A1BUVOGGFTGMBN</td>\n",
       "      <td>0439394058</td>\n",
       "      <td>2.0</td>\n",
       "      <td>1389744000</td>\n",
       "      <td>Scholastic SC939405 All-In-One Schoolhouse Cal...</td>\n",
       "      <td>Office Products</td>\n",
       "    </tr>\n",
       "  </tbody>\n",
       "</table>\n",
       "</div>"
      ],
      "text/plain": [
       "      reviewer_ID  product_ID  rating        time  \\\n",
       "0  A2P462UH5L6T57  043928631X     5.0  1356912000   \n",
       "1  A2E0X1MWNRTQF4  0439340039     1.0  1379721600   \n",
       "2   AAYGDWCI3LDQP  0439394058     5.0  1405382400   \n",
       "3   AI7SARYVM8FGA  0439394058     4.0  1212624000   \n",
       "4  A1BUVOGGFTGMBN  0439394058     2.0  1389744000   \n",
       "\n",
       "                                               title         main_cat  \n",
       "0  Harry Potter Lenticular Hologram Bookmark - Ha...  Office Products  \n",
       "1     Learn About Physical Science : Simple Machines         Software  \n",
       "2  Scholastic SC939405 All-In-One Schoolhouse Cal...  Office Products  \n",
       "3  Scholastic SC939405 All-In-One Schoolhouse Cal...  Office Products  \n",
       "4  Scholastic SC939405 All-In-One Schoolhouse Cal...  Office Products  "
      ]
     },
     "execution_count": 5,
     "metadata": {},
     "output_type": "execute_result"
    }
   ],
   "source": [
    "df = df1.merge(meta_df, on = ['product_ID'])\n",
    "df.head()"
   ]
  },
  {
   "cell_type": "code",
   "execution_count": 6,
   "metadata": {},
   "outputs": [
    {
     "name": "stdout",
     "output_type": "stream",
     "text": [
      "<class 'pandas.core.frame.DataFrame'>\n",
      "Int64Index: 825526 entries, 0 to 825525\n",
      "Data columns (total 6 columns):\n",
      " #   Column       Non-Null Count   Dtype  \n",
      "---  ------       --------------   -----  \n",
      " 0   reviewer_ID  825526 non-null  object \n",
      " 1   product_ID   825526 non-null  object \n",
      " 2   rating       825526 non-null  float64\n",
      " 3   time         825526 non-null  int64  \n",
      " 4   title        825525 non-null  object \n",
      " 5   main_cat     824583 non-null  object \n",
      "dtypes: float64(1), int64(1), object(4)\n",
      "memory usage: 44.1+ MB\n"
     ]
    }
   ],
   "source": [
    "df.info()"
   ]
  },
  {
   "cell_type": "code",
   "execution_count": 7,
   "metadata": {},
   "outputs": [
    {
     "data": {
      "text/plain": [
       "reviewer_ID      0\n",
       "product_ID       0\n",
       "rating           0\n",
       "time             0\n",
       "title            1\n",
       "main_cat       943\n",
       "dtype: int64"
      ]
     },
     "execution_count": 7,
     "metadata": {},
     "output_type": "execute_result"
    }
   ],
   "source": [
    "df.isnull().sum()"
   ]
  },
  {
   "cell_type": "code",
   "execution_count": 8,
   "metadata": {},
   "outputs": [
    {
     "name": "stdout",
     "output_type": "stream",
     "text": [
      "<class 'pandas.core.frame.DataFrame'>\n",
      "Int64Index: 824582 entries, 0 to 825525\n",
      "Data columns (total 6 columns):\n",
      " #   Column       Non-Null Count   Dtype  \n",
      "---  ------       --------------   -----  \n",
      " 0   reviewer_ID  824582 non-null  object \n",
      " 1   product_ID   824582 non-null  object \n",
      " 2   rating       824582 non-null  float64\n",
      " 3   time         824582 non-null  int64  \n",
      " 4   title        824582 non-null  object \n",
      " 5   main_cat     824582 non-null  object \n",
      "dtypes: float64(1), int64(1), object(4)\n",
      "memory usage: 44.0+ MB\n"
     ]
    }
   ],
   "source": [
    "df.dropna(inplace=True)\n",
    "df.info()"
   ]
  },
  {
   "cell_type": "code",
   "execution_count": 9,
   "metadata": {},
   "outputs": [
    {
     "data": {
      "text/plain": [
       "False    725194\n",
       "True      99388\n",
       "dtype: int64"
      ]
     },
     "execution_count": 9,
     "metadata": {},
     "output_type": "execute_result"
    }
   ],
   "source": [
    "df.duplicated().value_counts()"
   ]
  },
  {
   "cell_type": "code",
   "execution_count": 10,
   "metadata": {},
   "outputs": [
    {
     "data": {
      "text/plain": [
       "False    725194\n",
       "dtype: int64"
      ]
     },
     "execution_count": 10,
     "metadata": {},
     "output_type": "execute_result"
    }
   ],
   "source": [
    "df2 = df.drop_duplicates()\n",
    "df2.duplicated().value_counts()"
   ]
  },
  {
   "cell_type": "code",
   "execution_count": 11,
   "metadata": {},
   "outputs": [
    {
     "data": {
      "text/html": [
       "<div>\n",
       "<style scoped>\n",
       "    .dataframe tbody tr th:only-of-type {\n",
       "        vertical-align: middle;\n",
       "    }\n",
       "\n",
       "    .dataframe tbody tr th {\n",
       "        vertical-align: top;\n",
       "    }\n",
       "\n",
       "    .dataframe thead th {\n",
       "        text-align: right;\n",
       "    }\n",
       "</style>\n",
       "<table border=\"1\" class=\"dataframe\">\n",
       "  <thead>\n",
       "    <tr style=\"text-align: right;\">\n",
       "      <th></th>\n",
       "      <th>reviewer_ID</th>\n",
       "      <th>product_ID</th>\n",
       "      <th>rating</th>\n",
       "    </tr>\n",
       "  </thead>\n",
       "  <tbody>\n",
       "    <tr>\n",
       "      <th>0</th>\n",
       "      <td>A2P462UH5L6T57</td>\n",
       "      <td>043928631X</td>\n",
       "      <td>5.0</td>\n",
       "    </tr>\n",
       "    <tr>\n",
       "      <th>1</th>\n",
       "      <td>A2E0X1MWNRTQF4</td>\n",
       "      <td>0439340039</td>\n",
       "      <td>1.0</td>\n",
       "    </tr>\n",
       "    <tr>\n",
       "      <th>2</th>\n",
       "      <td>AAYGDWCI3LDQP</td>\n",
       "      <td>0439394058</td>\n",
       "      <td>5.0</td>\n",
       "    </tr>\n",
       "    <tr>\n",
       "      <th>3</th>\n",
       "      <td>AI7SARYVM8FGA</td>\n",
       "      <td>0439394058</td>\n",
       "      <td>4.0</td>\n",
       "    </tr>\n",
       "    <tr>\n",
       "      <th>4</th>\n",
       "      <td>A1BUVOGGFTGMBN</td>\n",
       "      <td>0439394058</td>\n",
       "      <td>2.0</td>\n",
       "    </tr>\n",
       "  </tbody>\n",
       "</table>\n",
       "</div>"
      ],
      "text/plain": [
       "      reviewer_ID  product_ID  rating\n",
       "0  A2P462UH5L6T57  043928631X     5.0\n",
       "1  A2E0X1MWNRTQF4  0439340039     1.0\n",
       "2   AAYGDWCI3LDQP  0439394058     5.0\n",
       "3   AI7SARYVM8FGA  0439394058     4.0\n",
       "4  A1BUVOGGFTGMBN  0439394058     2.0"
      ]
     },
     "execution_count": 11,
     "metadata": {},
     "output_type": "execute_result"
    }
   ],
   "source": [
    "df_ratings = df2[['reviewer_ID', 'product_ID', 'rating']]\n",
    "df_ratings.head()"
   ]
  },
  {
   "cell_type": "code",
   "execution_count": 12,
   "metadata": {},
   "outputs": [
    {
     "name": "stdout",
     "output_type": "stream",
     "text": [
      "<class 'pandas.core.frame.DataFrame'>\n",
      "Int64Index: 725194 entries, 0 to 825525\n",
      "Data columns (total 3 columns):\n",
      " #   Column       Non-Null Count   Dtype  \n",
      "---  ------       --------------   -----  \n",
      " 0   reviewer_ID  725194 non-null  object \n",
      " 1   product_ID   725194 non-null  object \n",
      " 2   rating       725194 non-null  float64\n",
      "dtypes: float64(1), object(2)\n",
      "memory usage: 22.1+ MB\n"
     ]
    }
   ],
   "source": [
    "df_ratings.info()"
   ]
  },
  {
   "cell_type": "code",
   "execution_count": 13,
   "metadata": {},
   "outputs": [
    {
     "name": "stdout",
     "output_type": "stream",
     "text": [
      "<class 'pandas.core.frame.DataFrame'>\n",
      "Int64Index: 100000 entries, 687113 to 415844\n",
      "Data columns (total 3 columns):\n",
      " #   Column       Non-Null Count   Dtype  \n",
      "---  ------       --------------   -----  \n",
      " 0   reviewer_ID  100000 non-null  object \n",
      " 1   product_ID   100000 non-null  object \n",
      " 2   rating       100000 non-null  float64\n",
      "dtypes: float64(1), object(2)\n",
      "memory usage: 3.1+ MB\n"
     ]
    }
   ],
   "source": [
    "df_final = df_ratings.sample(n=100000)\n",
    "df_final.info()"
   ]
  },
  {
   "cell_type": "code",
   "execution_count": 14,
   "metadata": {},
   "outputs": [],
   "source": [
    "df_final.to_csv('Final_Ratings.csv', index=False)"
   ]
  },
  {
   "cell_type": "code",
   "execution_count": 15,
   "metadata": {},
   "outputs": [
    {
     "data": {
      "text/html": [
       "<div>\n",
       "<style scoped>\n",
       "    .dataframe tbody tr th:only-of-type {\n",
       "        vertical-align: middle;\n",
       "    }\n",
       "\n",
       "    .dataframe tbody tr th {\n",
       "        vertical-align: top;\n",
       "    }\n",
       "\n",
       "    .dataframe thead th {\n",
       "        text-align: right;\n",
       "    }\n",
       "</style>\n",
       "<table border=\"1\" class=\"dataframe\">\n",
       "  <thead>\n",
       "    <tr style=\"text-align: right;\">\n",
       "      <th></th>\n",
       "      <th>product_ID</th>\n",
       "      <th>title</th>\n",
       "      <th>main_cat</th>\n",
       "    </tr>\n",
       "  </thead>\n",
       "  <tbody>\n",
       "    <tr>\n",
       "      <th>0</th>\n",
       "      <td>043928631X</td>\n",
       "      <td>Harry Potter Lenticular Hologram Bookmark - Ha...</td>\n",
       "      <td>Office Products</td>\n",
       "    </tr>\n",
       "    <tr>\n",
       "      <th>1</th>\n",
       "      <td>0439340039</td>\n",
       "      <td>Learn About Physical Science : Simple Machines</td>\n",
       "      <td>Software</td>\n",
       "    </tr>\n",
       "    <tr>\n",
       "      <th>2</th>\n",
       "      <td>0439394058</td>\n",
       "      <td>Scholastic SC939405 All-In-One Schoolhouse Cal...</td>\n",
       "      <td>Office Products</td>\n",
       "    </tr>\n",
       "    <tr>\n",
       "      <th>3</th>\n",
       "      <td>0439394058</td>\n",
       "      <td>Scholastic SC939405 All-In-One Schoolhouse Cal...</td>\n",
       "      <td>Office Products</td>\n",
       "    </tr>\n",
       "    <tr>\n",
       "      <th>4</th>\n",
       "      <td>0439394058</td>\n",
       "      <td>Scholastic SC939405 All-In-One Schoolhouse Cal...</td>\n",
       "      <td>Office Products</td>\n",
       "    </tr>\n",
       "  </tbody>\n",
       "</table>\n",
       "</div>"
      ],
      "text/plain": [
       "   product_ID                                              title  \\\n",
       "0  043928631X  Harry Potter Lenticular Hologram Bookmark - Ha...   \n",
       "1  0439340039     Learn About Physical Science : Simple Machines   \n",
       "2  0439394058  Scholastic SC939405 All-In-One Schoolhouse Cal...   \n",
       "3  0439394058  Scholastic SC939405 All-In-One Schoolhouse Cal...   \n",
       "4  0439394058  Scholastic SC939405 All-In-One Schoolhouse Cal...   \n",
       "\n",
       "          main_cat  \n",
       "0  Office Products  \n",
       "1         Software  \n",
       "2  Office Products  \n",
       "3  Office Products  \n",
       "4  Office Products  "
      ]
     },
     "execution_count": 15,
     "metadata": {},
     "output_type": "execute_result"
    }
   ],
   "source": [
    "df_metadata = df2[['product_ID', 'title', 'main_cat']]\n",
    "df_metadata.head()"
   ]
  },
  {
   "cell_type": "code",
   "execution_count": 16,
   "metadata": {},
   "outputs": [
    {
     "data": {
      "text/plain": [
       "True     652324\n",
       "False     72870\n",
       "dtype: int64"
      ]
     },
     "execution_count": 16,
     "metadata": {},
     "output_type": "execute_result"
    }
   ],
   "source": [
    "df_metadata.duplicated().value_counts()"
   ]
  },
  {
   "cell_type": "code",
   "execution_count": 17,
   "metadata": {},
   "outputs": [
    {
     "data": {
      "text/plain": [
       "False    72870\n",
       "dtype: int64"
      ]
     },
     "execution_count": 17,
     "metadata": {},
     "output_type": "execute_result"
    }
   ],
   "source": [
    "metadata = df_metadata.drop_duplicates()\n",
    "metadata.duplicated().value_counts()"
   ]
  },
  {
   "cell_type": "code",
   "execution_count": 18,
   "metadata": {},
   "outputs": [
    {
     "name": "stdout",
     "output_type": "stream",
     "text": [
      "<class 'pandas.core.frame.DataFrame'>\n",
      "Int64Index: 72870 entries, 0 to 825525\n",
      "Data columns (total 3 columns):\n",
      " #   Column      Non-Null Count  Dtype \n",
      "---  ------      --------------  ----- \n",
      " 0   product_ID  72870 non-null  object\n",
      " 1   title       72870 non-null  object\n",
      " 2   main_cat    72870 non-null  object\n",
      "dtypes: object(3)\n",
      "memory usage: 2.2+ MB\n"
     ]
    }
   ],
   "source": [
    "metadata.info()"
   ]
  },
  {
   "cell_type": "code",
   "execution_count": 19,
   "metadata": {},
   "outputs": [],
   "source": [
    "metadata.to_csv('Final_Metadata.csv', index=False)"
   ]
  },
  {
   "cell_type": "code",
   "execution_count": 20,
   "metadata": {},
   "outputs": [
    {
     "data": {
      "image/png": "[encoded data removed]",
      "text/plain": [
       "<Figure size 720x360 with 1 Axes>"
      ]
     },
     "metadata": {},
     "output_type": "display_data"
    }
   ],
   "source": [
    "import seaborn as sns\n",
    "import warnings\n",
    "warnings.filterwarnings('ignore')\n",
    "\n",
    "# Check the distribution of ratings \n",
    "with sns.axes_style('white'):\n",
    "    g = sns.factorplot(\"rating\", data=df_final, aspect=2.0, kind='count')\n",
    "    g.set_ylabels(\"Total number of ratings\");"
   ]
  },
  {
   "cell_type": "code",
   "execution_count": 21,
   "metadata": {},
   "outputs": [],
   "source": [
    "from surprise import Reader, Dataset\n",
    "reader = Reader()\n",
    "data = Dataset.load_from_df(df_final, reader)"
   ]
  },
  {
   "cell_type": "code",
   "execution_count": 22,
   "metadata": {},
   "outputs": [
    {
     "name": "stdout",
     "output_type": "stream",
     "text": [
      "Number of users:  94232 \n",
      "\n",
      "Number of items:  27354\n"
     ]
    }
   ],
   "source": [
    "dataset = data.build_full_trainset()\n",
    "print('Number of users: ', dataset.n_users, '\\n')\n",
    "print('Number of items: ', dataset.n_items)"
   ]
  },
  {
   "cell_type": "code",
   "execution_count": 23,
   "metadata": {},
   "outputs": [],
   "source": [
    "# Because we have fewer items than users, it will be more efficient to calculate item-item similarity.\n",
    "from surprise.model_selection import cross_validate\n",
    "from surprise.prediction_algorithms import SVD\n",
    "from surprise.prediction_algorithms import KNNWithMeans, KNNBasic, KNNBaseline\n",
    "from surprise.model_selection import GridSearchCV\n",
    "import numpy as np"
   ]
  },
  {
   "cell_type": "code",
   "execution_count": 24,
   "metadata": {},
   "outputs": [],
   "source": [
    "## Perform a gridsearch with SVD (model-based method)\n",
    "# ⏰ This cell may take several minutes to run\n",
    "params = {'n_factors': [20, 50, 100],\n",
    "          'reg_all': [0.02, 0.05, 0.1]}\n",
    "g_s_svd = GridSearchCV(SVD, param_grid=params, n_jobs=-1)\n",
    "g_s_svd.fit(data)"
   ]
  },
  {
   "cell_type": "code",
   "execution_count": 25,
   "metadata": {},
   "outputs": [
    {
     "name": "stdout",
     "output_type": "stream",
     "text": [
      "{'rmse': 1.3688092846708586, 'mae': 1.111078922340163}\n",
      "{'rmse': {'n_factors': 20, 'reg_all': 0.05}, 'mae': {'n_factors': 20, 'reg_all': 0.02}}\n"
     ]
    }
   ],
   "source": [
    "print(g_s_svd.best_score)\n",
    "print(g_s_svd.best_params)"
   ]
  },
  {
   "cell_type": "code",
   "execution_count": 26,
   "metadata": {},
   "outputs": [],
   "source": [
    "# Memory-Based Methods (Neighborhood-Based)\n",
    "# cross validating with KNNBasic\n",
    "knn_basic = KNNBasic(sim_options={'name':'pearson', 'user_based':False})\n",
    "cv_knn_basic = cross_validate(knn_basic, data, n_jobs=-1)"
   ]
  },
  {
   "cell_type": "code",
   "execution_count": 27,
   "metadata": {},
   "outputs": [
    {
     "name": "stdout",
     "output_type": "stream",
     "text": [
      "('test_rmse', array([1.43686503, 1.43222357, 1.43679384, 1.4379977 , 1.43212084]))\n",
      "('test_mae', array([1.16920965, 1.16760931, 1.16731515, 1.16704025, 1.16739737]))\n",
      "('fit_time', (49.44601106643677, 48.14624881744385, 69.8523919582367, 70.72175526618958, 70.40334892272949))\n",
      "('test_time', (0.23067188262939453, 0.18312883377075195, 0.15476417541503906, 0.14872193336486816, 0.14855408668518066))\n",
      "-----------------------\n",
      "1.435200195160333\n"
     ]
    }
   ],
   "source": [
    "for i in cv_knn_basic.items():\n",
    "    print(i)\n",
    "print('-----------------------')\n",
    "print(np.mean(cv_knn_basic['test_rmse']))"
   ]
  },
  {
   "cell_type": "code",
   "execution_count": 28,
   "metadata": {},
   "outputs": [
    {
     "name": "stdout",
     "output_type": "stream",
     "text": [
      "Estimating biases using als...\n",
      "Computing the pearson similarity matrix...\n",
      "Done computing similarity matrix.\n",
      "Estimating biases using als...\n",
      "Computing the pearson similarity matrix...\n",
      "Done computing similarity matrix.\n",
      "Estimating biases using als...\n",
      "Computing the pearson similarity matrix...\n",
      "Done computing similarity matrix.\n",
      "Estimating biases using als...\n",
      "Computing the pearson similarity matrix...\n",
      "Done computing similarity matrix.\n",
      "Estimating biases using als...\n",
      "Computing the pearson similarity matrix...\n",
      "Done computing similarity matrix.\n"
     ]
    }
   ],
   "source": [
    "# cross validating with KNNBaseline\n",
    "knn_baseline = KNNBaseline(sim_options={'name':'pearson', 'user_based':False})\n",
    "cv_knn_baseline = cross_validate(knn_baseline, data)"
   ]
  },
  {
   "cell_type": "code",
   "execution_count": 29,
   "metadata": {},
   "outputs": [
    {
     "name": "stdout",
     "output_type": "stream",
     "text": [
      "('test_rmse', array([1.36217084, 1.38154869, 1.36931134, 1.37154384, 1.37225701]))\n",
      "('test_mae', array([1.11134633, 1.1243174 , 1.11265731, 1.11874584, 1.12008775]))\n",
      "('fit_time', (15.043123006820679, 15.30855393409729, 13.712160110473633, 14.519359111785889, 14.590260982513428))\n",
      "('test_time', (0.14177703857421875, 0.14391231536865234, 0.14313292503356934, 0.264585018157959, 0.138502836227417))\n",
      "-----------------------\n"
     ]
    },
    {
     "data": {
      "text/plain": [
       "1.3713663437216816"
      ]
     },
     "execution_count": 29,
     "metadata": {},
     "output_type": "execute_result"
    }
   ],
   "source": [
    "for i in cv_knn_baseline.items():\n",
    "    print(i)\n",
    "print('-----------------------')\n",
    "np.mean(cv_knn_baseline['test_rmse'])"
   ]
  },
  {
   "cell_type": "code",
   "execution_count": 30,
   "metadata": {},
   "outputs": [],
   "source": [
    "knn_means = KNNWithMeans(sim_options={'name':'pearson', 'user_based':False})\n",
    "cv_knn_means = cross_validate(knn_means, data, n_jobs=-1)"
   ]
  },
  {
   "cell_type": "code",
   "execution_count": 31,
   "metadata": {},
   "outputs": [
    {
     "name": "stdout",
     "output_type": "stream",
     "text": [
      "('test_rmse', array([1.43420336, 1.43334189, 1.43805901, 1.43806005, 1.44218183]))\n",
      "('test_mae', array([1.15906745, 1.16184107, 1.16513429, 1.16255328, 1.16623756]))\n",
      "('fit_time', (48.68821406364441, 49.489845991134644, 65.87779808044434, 72.49920892715454, 67.24868512153625))\n",
      "('test_time', (0.21075201034545898, 0.21920204162597656, 0.2182159423828125, 0.12866687774658203, 0.19150280952453613))\n",
      "-----------------------\n"
     ]
    },
    {
     "data": {
      "text/plain": [
       "1.4371692299014343"
      ]
     },
     "execution_count": 31,
     "metadata": {},
     "output_type": "execute_result"
    }
   ],
   "source": [
    "for i in cv_knn_means.items():\n",
    "    print(i)\n",
    "print('-----------------------')\n",
    "np.mean(cv_knn_means['test_rmse'])"
   ]
  },
  {
   "cell_type": "code",
   "execution_count": 32,
   "metadata": {},
   "outputs": [],
   "source": [
    "# Obtaining user ratings\n",
    "def product_rater(df3, num, category=None):\n",
    "    reviewer_ID = 'A2P462UH5L6T57'\n",
    "    rating_list = []\n",
    "    while num > 0:\n",
    "        if category:\n",
    "            product = df3[df3['main_cat'].str.contains(category)].sample(1)\n",
    "        else:\n",
    "            product = df3.sample(1)\n",
    "        print(product)\n",
    "        rating = input('How do you rate this product on a scale of 1-5, press n if you have not used :\\n')\n",
    "        if rating == 'n':\n",
    "            continue\n",
    "        else:\n",
    "            rating_one_product = {'reviewer_Id':reviewer_ID,\n",
    "                                  'product_ID':product['product_ID'].values[0],\n",
    "                                  'rating':rating}\n",
    "            rating_list.append(rating_one_product) \n",
    "            num -= 1\n",
    "    return rating_list      "
   ]
  },
  {
   "cell_type": "code",
   "execution_count": 33,
   "metadata": {},
   "outputs": [
    {
     "name": "stdout",
     "output_type": "stream",
     "text": [
      "        product_ID                                              title main_cat\n",
      "350619  B000VSG2US  Take4Less 2-pack Black HP # 20 C6614DN C6614AN...    Books\n",
      "How do you rate this product on a scale of 1-5, press n if you have not used :\n",
      "4\n",
      "        product_ID                              title main_cat\n",
      "609798  B004J6CYSW  Luxleather Serenity Prayer Medium    Books\n",
      "How do you rate this product on a scale of 1-5, press n if you have not used :\n",
      "3\n",
      "        product_ID                                 title main_cat\n",
      "788068  B00CM6BFB8  An Honest Day's Work - 2014 Calendar    Books\n",
      "How do you rate this product on a scale of 1-5, press n if you have not used :\n",
      "2\n",
      "      product_ID                                              title main_cat\n",
      "3314  1727080351  Cheese Sketchbook: Cheese Bordered Sketchbook ...    Books\n",
      "How do you rate this product on a scale of 1-5, press n if you have not used :\n",
      "5\n"
     ]
    }
   ],
   "source": [
    "user_rating = product_rater(metadata, 4, 'Books')"
   ]
  },
  {
   "cell_type": "code",
   "execution_count": 34,
   "metadata": {},
   "outputs": [],
   "source": [
    "# making predictions with new ratings\n",
    "# add the new ratings to the original ratings DataFrame\n",
    "new_ratings_df = df_final.append(user_rating, ignore_index=True)\n",
    "new_data = Dataset.load_from_df(new_ratings_df[[\"reviewer_ID\", \"product_ID\", \"rating\"]], reader)"
   ]
  },
  {
   "cell_type": "code",
   "execution_count": 35,
   "metadata": {},
   "outputs": [
    {
     "data": {
      "text/plain": [
       "<surprise.prediction_algorithms.matrix_factorization.SVD at 0x7f86dd29eeb0>"
      ]
     },
     "execution_count": 35,
     "metadata": {},
     "output_type": "execute_result"
    }
   ],
   "source": [
    "# train a model using the new combined DataFrame\n",
    "svd_ = SVD(n_factors=20, reg_all=0.02)\n",
    "svd_.fit(new_data.build_full_trainset())"
   ]
  },
  {
   "cell_type": "code",
   "execution_count": 36,
   "metadata": {},
   "outputs": [],
   "source": [
    "# make predictions for the user\n",
    "# you'll probably want to create a list of tuples in the format (product_id, predicted_score)\n",
    "list_of_products = []\n",
    "for p_id in df_final['product_ID'].unique():\n",
    "    list_of_products.append((p_id, svd_.predict('A2P462UH5L6T57', p_id)[3]))"
   ]
  },
  {
   "cell_type": "code",
   "execution_count": 37,
   "metadata": {},
   "outputs": [],
   "source": [
    "# order the predictions from highest to lowest rated\n",
    "ranked_products = sorted(list_of_products, key=lambda x:x[1], reverse=True)"
   ]
  },
  {
   "cell_type": "code",
   "execution_count": 38,
   "metadata": {},
   "outputs": [
    {
     "name": "stdout",
     "output_type": "stream",
     "text": [
      "Recommendation #  1 :  641783    LapWorks 15&quot; Heavy Duty Swivel - With Ste...\n",
      "Name: title, dtype: object \n",
      "\n",
      "Recommendation #  2 :  326810    Staedtler Triplus Fineliner Pens, Pack of 10, ...\n",
      "Name: title, dtype: object \n",
      "\n",
      "Recommendation #  3 :  455878    Letter Laminating Pouches 5 Mil 9 x 11-1/2 Hot...\n",
      "Name: title, dtype: object \n",
      "\n",
      "Recommendation #  4 :  768952    Fujitsu ScanSnap iX500 Deluxe Bundle Scanner f...\n",
      "Name: title, dtype: object \n",
      "\n",
      "Recommendation #  5 :  227695    Pilot G2 Retractable Premium Gel Ink Roller Ba...\n",
      "Name: title, dtype: object \n",
      "\n",
      "Recommendation #  6 :  339858    Noodlers Ink 3 Oz Borealis Black\n",
      "Name: title, dtype: object \n",
      "\n",
      "Recommendation #  7 :  538579     Rolland Office Chair Caster Wheel OEM Replace...\n",
      "Name: title, dtype: object \n",
      "\n",
      "Recommendation #  8 :  628793    Georgia-Pacific Spectrum Standard 92 Multipurp...\n",
      "Name: title, dtype: object \n",
      "\n",
      "Recommendation #  9 :  493998    Whirlpool 1903WH Laundry Supply Storage Cart\n",
      "Name: title, dtype: object \n",
      "\n",
      "Recommendation #  10 :  763668    Fujitsu PA03656-B005 Image Scanner ScanSnap iX500\n",
      "Name: title, dtype: object \n",
      "\n"
     ]
    }
   ],
   "source": [
    "# return the top n recommendations using the \n",
    "def recommended_products(user_ratings, product_df, n):\n",
    "        for idx, rec in enumerate(user_ratings):\n",
    "            title = product_df.loc[product_df['product_ID'] == str(rec[0])]['title']\n",
    "            print('Recommendation # ', idx+1, ': ', title, '\\n')\n",
    "            n-= 1\n",
    "            if n == 0:\n",
    "                break\n",
    "            \n",
    "recommended_products(ranked_products, metadata, 10)"
   ]
  },
  {
   "cell_type": "code",
   "execution_count": 39,
   "metadata": {},
   "outputs": [],
   "source": [
    "# import necessary libraries\n",
    "from pyspark.sql import SparkSession\n",
    "\n",
    "# instantiate SparkSession object\n",
    "spark = SparkSession.builder.master('local').getOrCreate() "
   ]
  },
  {
   "cell_type": "code",
   "execution_count": 40,
   "metadata": {},
   "outputs": [
    {
     "data": {
      "text/plain": [
       "[('reviewer_ID', 'string'), ('product_ID', 'string'), ('rating', 'double')]"
      ]
     },
     "execution_count": 40,
     "metadata": {},
     "output_type": "execute_result"
    }
   ],
   "source": [
    "df = spark.read.csv('Final_Ratings.csv', header='true', inferSchema='true')\n",
    "df.dtypes"
   ]
  },
  {
   "cell_type": "code",
   "execution_count": 41,
   "metadata": {},
   "outputs": [
    {
     "name": "stdout",
     "output_type": "stream",
     "text": [
      "+--------------+----------+------+--------------+-------------+\n",
      "|   reviewer_ID|product_ID|rating|reviewer_Index|product_Index|\n",
      "+--------------+----------+------+--------------+-------------+\n",
      "|A1VSD1ZD5KOHA2|B005WPSI02|   5.0|       25306.0|      10998.0|\n",
      "|A1T9NKM8LIBAAR|B000BBCKOC|   4.0|       23545.0|        429.0|\n",
      "| ALQAMSI6GCN3C|B000IHTEES|   5.0|       84920.0|       6276.0|\n",
      "| AVJ748Z2CIF1A|B000X8W54I|   5.0|       91362.0|       9174.0|\n",
      "| A897HFZ5J88HU|B00D7K5B40|   4.0|       76009.0|       2582.0|\n",
      "|A2AVU6O4L6R32W|B005GSYNRM|   5.0|       35408.0|        234.0|\n",
      "|A11KZ906QD08C5|B006K0PAM2|   5.0|          80.0|       5460.0|\n",
      "|A1W22FE5S1M7GK|B0006LA2TC|   5.0|       25494.0|       3158.0|\n",
      "|A1VX6VB7OKJM78|B000VKQBPW|   2.0|       25402.0|      15880.0|\n",
      "|A3JSPZHJS1B5SY|B003YFHCKY|   5.0|       65043.0|          8.0|\n",
      "|A3BDPPMCEV0RM4|B005N3FMDE|   5.0|       59548.0|        135.0|\n",
      "| ALC2HOEWBY3ME|B000LYAX1G|   5.0|       84643.0|         25.0|\n",
      "| AMZCJ3X5HOQRQ|B0002T401Y|   4.0|       85731.0|         88.0|\n",
      "|A10LHBMIHC6LZK|B000PDFQ6K|   4.0|        4754.0|        214.0|\n",
      "| ATUW5JMPZHRTC|B00260S1ZI|   1.0|       90270.0|      18520.0|\n",
      "|A3P03E7EZ2PLN4|B005K95U88|   4.0|       68482.0|        131.0|\n",
      "|A3DOPYDOS49I3T|B00BH9GNYU|   5.0|         268.0|       1742.0|\n",
      "| A3WAR10AYI68X|B00H222PCK|   3.0|       73178.0|      26992.0|\n",
      "|A3KLTC6CXKQSP4|B001REA0HG|   5.0|       65565.0|       9851.0|\n",
      "|A3CZ8SLBVVAFOO|B0000636X8|   3.0|       60592.0|       2001.0|\n",
      "+--------------+----------+------+--------------+-------------+\n",
      "only showing top 20 rows\n",
      "\n"
     ]
    }
   ],
   "source": [
    "from pyspark.ml.feature import StringIndexer\n",
    "from pyspark.ml import Pipeline\n",
    "\n",
    "indexers = [StringIndexer(inputCol=\"reviewer_ID\", outputCol=\"reviewer_Index\"),\n",
    "            StringIndexer(inputCol=\"product_ID\", outputCol=\"product_Index\")]\n",
    "\n",
    "pipeline = Pipeline(stages=indexers)\n",
    "df_ind = pipeline.fit(df).transform(df)\n",
    "\n",
    "df_ind.show()"
   ]
  },
  {
   "cell_type": "code",
   "execution_count": 42,
   "metadata": {},
   "outputs": [
    {
     "data": {
      "text/plain": [
       "[('reviewer_ID', 'string'),\n",
       " ('product_ID', 'string'),\n",
       " ('rating', 'double'),\n",
       " ('reviewer_Index', 'double'),\n",
       " ('product_Index', 'double')]"
      ]
     },
     "execution_count": 42,
     "metadata": {},
     "output_type": "execute_result"
    }
   ],
   "source": [
    "df_ind.dtypes"
   ]
  },
  {
   "cell_type": "code",
   "execution_count": 43,
   "metadata": {},
   "outputs": [],
   "source": [
    "from pyspark.ml.evaluation import RegressionEvaluator\n",
    "\n",
    "from pyspark.ml.recommendation import ALS\n",
    "\n",
    "# split into training and testing sets\n",
    "(training, test) = df_ind.randomSplit([0.8, 0.2])\n",
    "\n",
    "# Build the recommendation model using ALS on the training data\n",
    "# Note we set cold start strategy to 'drop' to ensure we don't get NaN evaluation metrics\n",
    "als = ALS(maxIter=5,\n",
    "          rank=50,\n",
    "          regParam=0.5,\n",
    "          userCol='reviewer_Index',\n",
    "          itemCol='product_Index',\n",
    "          ratingCol='rating',\n",
    "          coldStartStrategy='drop')\n",
    "\n",
    "# fit the ALS model to the training set\n",
    "model = als.fit(training)"
   ]
  },
  {
   "cell_type": "code",
   "execution_count": 44,
   "metadata": {},
   "outputs": [
    {
     "name": "stdout",
     "output_type": "stream",
     "text": [
      "Root-mean-square error = 4.287366869698856\n"
     ]
    }
   ],
   "source": [
    "# importing appropriate library\n",
    "from pyspark.ml.evaluation import RegressionEvaluator\n",
    "\n",
    "# Evaluate the model by computing the RMSE on the test data\n",
    "predictions = model.transform(test)\n",
    "evaluator = RegressionEvaluator(metricName='rmse', labelCol='rating',\n",
    "                                predictionCol='prediction')\n",
    "rmse = evaluator.evaluate(predictions)\n",
    "print('Root-mean-square error = ' + str(rmse))"
   ]
  },
  {
   "cell_type": "code",
   "execution_count": 45,
   "metadata": {},
   "outputs": [],
   "source": [
    "def index_retriever(product_Index, df):\n",
    "    return df.where(df.product_Index == product_Index).take(1)[0]['product_ID']"
   ]
  },
  {
   "cell_type": "code",
   "execution_count": 46,
   "metadata": {},
   "outputs": [
    {
     "data": {
      "text/plain": [
       "'B005HFJFKE'"
      ]
     },
     "execution_count": 46,
     "metadata": {},
     "output_type": "execute_result"
    }
   ],
   "source": [
    "index_retriever(150, df_ind)"
   ]
  },
  {
   "cell_type": "code",
   "execution_count": 47,
   "metadata": {},
   "outputs": [
    {
     "data": {
      "text/plain": [
       "[Row(product_ID='043928631X', title='Harry Potter Lenticular Hologram Bookmark - Harry, Ron &amp; Hermoine', main_cat='Office Products'),\n",
       " Row(product_ID='0439340039', title='Learn About Physical Science : Simple Machines', main_cat='Software'),\n",
       " Row(product_ID='0439394058', title='Scholastic SC939405 All-In-One Schoolhouse Calendar Bulletin Board', main_cat='Office Products'),\n",
       " Row(product_ID='0439492092', title=\"Scholastic Teacher's Friend Happy Thanksgiving! Bulletin Board (TF3073)\", main_cat='Office Products'),\n",
       " Row(product_ID='0439492602', title='Scholastic TF3281 U.S. Coins and Bills Accent Punch-Outs', main_cat='Office Products')]"
      ]
     },
     "execution_count": 47,
     "metadata": {},
     "output_type": "execute_result"
    }
   ],
   "source": [
    "df_meta = spark.read.csv('Final_Metadata.csv', header='true', inferSchema='true')\n",
    "df_meta.head(5)"
   ]
  },
  {
   "cell_type": "code",
   "execution_count": 48,
   "metadata": {},
   "outputs": [],
   "source": [
    "def product_retriever(product_ID, product_meta_df):\n",
    "    return product_meta_df.where(product_meta_df.product_ID == product_ID).take(1)[0]['title']"
   ]
  },
  {
   "cell_type": "code",
   "execution_count": 49,
   "metadata": {},
   "outputs": [
    {
     "name": "stdout",
     "output_type": "stream",
     "text": [
      "Scholastic TF3281 U.S. Coins and Bills Accent Punch-Outs\n"
     ]
    }
   ],
   "source": [
    "print(product_retriever('0439492602', df_meta))"
   ]
  },
  {
   "cell_type": "code",
   "execution_count": 50,
   "metadata": {},
   "outputs": [],
   "source": [
    "users = df_ind.select(als.getUserCol()).distinct().limit(1)\n",
    "userSubsetRecs = model.recommendForUserSubset(users, 10)\n",
    "recs = userSubsetRecs.take(1)"
   ]
  },
  {
   "cell_type": "code",
   "execution_count": 51,
   "metadata": {},
   "outputs": [
    {
     "data": {
      "text/plain": [
       "'Atlantic Notebook Tray (33935843)'"
      ]
     },
     "execution_count": 51,
     "metadata": {},
     "output_type": "execute_result"
    }
   ],
   "source": [
    "# use indexing to obtain the movie id of top predicted rated item\n",
    "first_recommendation = recs[0]['recommendations'][0][0]\n",
    "\n",
    "# use the name retriever function to get the values\n",
    "index = index_retriever(first_recommendation, df_ind)\n",
    "product_retriever(index, df_meta)"
   ]
  },
  {
   "cell_type": "code",
   "execution_count": 88,
   "metadata": {},
   "outputs": [],
   "source": [
    "def new_reviewer_recs(reviewer_Index, new_ratings, df, rating_df, product_meta_df, num_recs):\n",
    "    # turn the new_recommendations list into a spark DataFrame\n",
    "    new_reviewer_ratings = spark.createDataFrame(new_ratings, df.columns)\n",
    "    new_ratings =  pipeline.fit(new_reviewer_ratings).transform(new_reviewer_ratings)\n",
    "    \n",
    "    # combine the new ratings df with the rating_df\n",
    "    product_ratings_combined = rating_df.union(new_ratings)\n",
    "    \n",
    "    # create an ALS model and fit it\n",
    "    als = ALS(maxIter=5,\n",
    "              rank=50,\n",
    "              regParam=0.5,\n",
    "              userCol=\"reviewer_Index\",\n",
    "              itemCol=\"product_Index\",\n",
    "              ratingCol=\"rating\",\n",
    "              coldStartStrategy=\"drop\")\n",
    "    model = als.fit(product_ratings_combined)\n",
    "    \n",
    "    # make recommendations for all users using the recommendForAllUsers method\n",
    "    recommendations = model.recommendForAllUsers(num_recs)\n",
    "    \n",
    "    # get recommendations specifically for the new user that has been added to the DataFrame\n",
    "    recs_for_user = recommendations.where(recommendations.reviewer_Index == reviewer_Index).take(1)\n",
    "    \n",
    "    for ranking, (product_Index, product_ID) in enumerate(recs_for_user[0]['recommendations']):\n",
    "        index = index_retriever(product_Index, rating_df)\n",
    "        product = product_retriever(index, product_meta_df)\n",
    "        print('Recommendation {}: {} | product_ID: {}'.format(ranking+1, product, index))"
   ]
  },
  {
   "cell_type": "code",
   "execution_count": 89,
   "metadata": {},
   "outputs": [],
   "source": [
    "reviewer_Index = 81334\n",
    "reviewer_ratings = [(reviewer_Index, 1819, 4),\n",
    "                    (reviewer_Index, 1220, 5),\n",
    "                    (reviewer_Index, 150, 5),\n",
    "                    (reviewer_Index, 23029, 3),\n",
    "                    (reviewer_Index, 887, 5)]"
   ]
  },
  {
   "cell_type": "code",
   "execution_count": 90,
   "metadata": {},
   "outputs": [
    {
     "name": "stdout",
     "output_type": "stream",
     "text": [
      "Recommendation 1: EPS Compatible Toner Cartridge Replacement for HP 131a ( Multicolor , 5-Pack ) | product_ID: B00D5Z46ZW\n",
      "Recommendation 2: Ricoh Aficio GX3050 GelSprinter Color Printer | product_ID: B000N6CE6Y\n",
      "Recommendation 3: Pilot Dr. Grip Retractable Ball Point Pen, Cranberry Barrel, Black Ink, Medium Point, Pack of 6 | product_ID: B00BWU1VPK\n",
      "Recommendation 4: Heartstrings 2013-2014 2 Year Pocket Planner Calendar | product_ID: B009JU6SEY\n",
      "Recommendation 5: Monteverde Invincia Rose Gold with Black Carbon Fiber Ballpoint Pen (MV40060) | product_ID: B000VC6X9E\n",
      "Recommendation 6: Ampad 42033 Quad Ruled Dual Pad, 5&quot; X 8&quot; White, 4 Squares Per Inch 100 Sheets, Micro Perforated | product_ID: B004Z8JAP4\n",
      "Recommendation 7: Stylish Unit Magic Green Look Barrel Golden Clip &amp; Ring Cat Eye Tip Fountain Pen with Push in Style Ink Converter | product_ID: B00531O57K\n",
      "Recommendation 8: CSSN ScanShell 800N Portable USB Sheetfed A6 Scanner | product_ID: B000GYL0SG\n",
      "Recommendation 9: LEXMARK P350  Photo Printing Kit- Paper &amp; Ink Cartrridge #45 | product_ID: B000IOG25U\n",
      "Recommendation 10: Uni-Ball EX2 Stick Gel Pens, 5 Colored Ink Pens(70785) | product_ID: B000JKRC70\n"
     ]
    }
   ],
   "source": [
    "new_reviewer_recs(reviewer_Index,\n",
    "                  new_ratings=reviewer_ratings,\n",
    "                  df=df,\n",
    "                  rating_df=df_ind,\n",
    "                  product_meta_df=df_meta,\n",
    "                  num_recs = 10)"
   ]
  },
  {
   "cell_type": "code",
   "execution_count": null,
   "metadata": {},
   "outputs": [],
   "source": []
  }
 ],
 "metadata": {
  "kernelspec": {
   "display_name": "Python (learn-env)",
   "language": "python",
   "name": "learn-env"
  },
  "language_info": {
   "codemirror_mode": {
    "name": "ipython",
    "version": 3
   },
   "file_extension": ".py",
   "mimetype": "text/x-python",
   "name": "python",
   "nbconvert_exporter": "python",
   "pygments_lexer": "ipython3",
   "version": "3.8.5"
  }
 },
 "nbformat": 4,
 "nbformat_minor": 4
}
